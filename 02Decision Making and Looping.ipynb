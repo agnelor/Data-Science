{
 "cells": [
  {
   "cell_type": "markdown",
   "id": "ec7bffb5-bafb-4703-b9ed-bb2e5ccea849",
   "metadata": {},
   "source": [
    "#### Decision Making and looping"
   ]
  },
  {
   "cell_type": "markdown",
   "id": "7658274b-801b-484c-b897-7bbfd93047a5",
   "metadata": {},
   "source": [
    "##### If Else"
   ]
  },
  {
   "cell_type": "code",
   "execution_count": 8,
   "id": "b6105424-2fc4-4474-be79-a41d9529dee5",
   "metadata": {},
   "outputs": [
    {
     "name": "stdin",
     "output_type": "stream",
     "text": [
      "Enter the number to check: 6\n"
     ]
    },
    {
     "name": "stdout",
     "output_type": "stream",
     "text": [
      "Number is positive\n"
     ]
    }
   ],
   "source": [
    "num = int(input('Enter the number to check:'))\n",
    "if num > 0:       # Compulsary, Condition, Non Repeatable\n",
    "    print('Number is positive')\n",
    "else:             #Optional, No condition, Non Repeatable\n",
    "    print('Number is negative')"
   ]
  },
  {
   "cell_type": "code",
   "execution_count": 3,
   "id": "266c574c-805f-4c4e-8bcc-b96199b7a94d",
   "metadata": {},
   "outputs": [
    {
     "name": "stdin",
     "output_type": "stream",
     "text": [
      "Enter the number to check: 5\n"
     ]
    },
    {
     "name": "stdout",
     "output_type": "stream",
     "text": [
      "Number is positive\n",
      "OK\n"
     ]
    }
   ],
   "source": [
    "num = int(input('Enter the number to check:'))\n",
    "if num > 0:\n",
    "    print('Number is positive')\n",
    "    print('OK')\n",
    "else:\n",
    "    print('Number is negative')\n",
    "    print('Bye')"
   ]
  },
  {
   "cell_type": "code",
   "execution_count": 7,
   "id": "afa199ff-be8f-4bc1-834e-a5abda96761d",
   "metadata": {},
   "outputs": [
    {
     "name": "stdin",
     "output_type": "stream",
     "text": [
      "Enter the number to check: 5\n"
     ]
    },
    {
     "name": "stdout",
     "output_type": "stream",
     "text": [
      "Number is positive\n"
     ]
    }
   ],
   "source": [
    "num = int(input('Enter the number to check:'))\n",
    "if num > 0:\n",
    "    print('Number is positive')\n",
    "elif num == 0:     # Optional, Condition, Repeatable\n",
    "    print('Number is Zero')\n",
    "else: \n",
    "    print('Number is negative')"
   ]
  },
  {
   "cell_type": "code",
   "execution_count": 13,
   "id": "49fba354-c12e-4e02-8b38-7b6fabbb7d5e",
   "metadata": {},
   "outputs": [
    {
     "name": "stdin",
     "output_type": "stream",
     "text": [
      "Enter the number to check: 3\n"
     ]
    },
    {
     "name": "stdout",
     "output_type": "stream",
     "text": [
      "Number is odd\n"
     ]
    }
   ],
   "source": [
    "num = int(input('Enter the number to check:'))\n",
    "if num == 0:\n",
    "    print('Number is neither odd nor even') \n",
    "elif num % 2 == 0:\n",
    "    print('Number is even')\n",
    "else:\n",
    "    print('Number is odd')"
   ]
  },
  {
   "cell_type": "markdown",
   "id": "8660c891-42b0-4f8e-91ad-054bc87f0c94",
   "metadata": {},
   "source": [
    "##### Loops"
   ]
  },
  {
   "cell_type": "code",
   "execution_count": 16,
   "id": "6b9a3170-9ebb-47e4-b9ce-c467d2a397c3",
   "metadata": {},
   "outputs": [
    {
     "name": "stdout",
     "output_type": "stream",
     "text": [
      "Entering the Loop\n",
      "Agnelo\n",
      "Agnelo\n",
      "Agnelo\n",
      "Agnelo\n",
      "Agnelo\n",
      "Agnelo\n",
      "Agnelo\n",
      "Agnelo\n",
      "Agnelo\n",
      "Agnelo\n",
      "Exiting the Loop\n"
     ]
    }
   ],
   "source": [
    "count = 0\n",
    "print('Entering the Loop')\n",
    "while count < 10:\n",
    "    print('Agnelo')\n",
    "    count += 1\n",
    "print('Exiting the Loop')"
   ]
  },
  {
   "cell_type": "code",
   "execution_count": 20,
   "id": "e89ccfb9-9333-4663-af65-948c8de50b04",
   "metadata": {},
   "outputs": [
    {
     "name": "stdout",
     "output_type": "stream",
     "text": [
      "11\n",
      "12\n",
      "13\n",
      "14\n",
      "15\n",
      "16\n",
      "17\n",
      "18\n",
      "19\n",
      "20\n"
     ]
    }
   ],
   "source": [
    "count = 11\n",
    "while count <= 20:\n",
    "    print(count)\n",
    "    count += 1"
   ]
  },
  {
   "cell_type": "code",
   "execution_count": 29,
   "id": "e30546e7-d274-4128-a9a9-956f22dd89b2",
   "metadata": {},
   "outputs": [
    {
     "name": "stdout",
     "output_type": "stream",
     "text": [
      "56\n",
      "33\n",
      "87\n",
      "90\n"
     ]
    }
   ],
   "source": [
    "for i in 56, 33, 87, 90:\n",
    "    print(i)"
   ]
  },
  {
   "cell_type": "code",
   "execution_count": 30,
   "id": "fa4ab687-f119-4646-abb1-1620e008735b",
   "metadata": {},
   "outputs": [
    {
     "name": "stdout",
     "output_type": "stream",
     "text": [
      "28.0\n",
      "39.0\n",
      "44.5\n",
      "45.0\n"
     ]
    }
   ],
   "source": [
    "num = [56,78,89,90]\n",
    "for i in num:\n",
    "        print(i/2)"
   ]
  },
  {
   "cell_type": "code",
   "execution_count": 31,
   "id": "d86571b7-7721-40bc-8943-8bb3c1658b9e",
   "metadata": {},
   "outputs": [
    {
     "name": "stdout",
     "output_type": "stream",
     "text": [
      "CCCCCCCCCCCCCCCCCCCCCCCCCCCCCCCCCCCCCCCCCCCCCCCCCC\n",
      "DDDDDDDDDDDDDDDDDDDDDDDDDDDDDDDDDDDDDDDDDDDDDDDDDD\n",
      "AAAAAAAAAAAAAAAAAAAAAAAAAAAAAAAAAAAAAAAAAAAAAAAAAA\n",
      "CCCCCCCCCCCCCCCCCCCCCCCCCCCCCCCCCCCCCCCCCCCCCCCCCC\n"
     ]
    }
   ],
   "source": [
    "name = 'CDAC'\n",
    "for c in name:\n",
    "        print(c*50)"
   ]
  },
  {
   "cell_type": "markdown",
   "id": "876a68bf-9fd6-49c4-95ec-3a5c3186b107",
   "metadata": {},
   "source": [
    "#### Range"
   ]
  },
  {
   "cell_type": "code",
   "execution_count": 34,
   "id": "e955cad8-c55b-4a83-bb99-f1072f0423f8",
   "metadata": {},
   "outputs": [
    {
     "data": {
      "text/plain": [
       "[0, 1, 2, 3, 4, 5, 6, 7, 8, 9]"
      ]
     },
     "execution_count": 34,
     "metadata": {},
     "output_type": "execute_result"
    }
   ],
   "source": [
    "list(range(10))"
   ]
  },
  {
   "cell_type": "code",
   "execution_count": 36,
   "id": "39cef147-a0ba-4257-916d-7e91c1dd0b7c",
   "metadata": {},
   "outputs": [
    {
     "data": {
      "text/plain": [
       "[4, 5, 6, 7, 8, 9]"
      ]
     },
     "execution_count": 36,
     "metadata": {},
     "output_type": "execute_result"
    }
   ],
   "source": [
    "list(range(4,10))"
   ]
  },
  {
   "cell_type": "code",
   "execution_count": 37,
   "id": "204ea790-fef5-4cb5-9aa7-664259e6ccbb",
   "metadata": {},
   "outputs": [
    {
     "data": {
      "text/plain": [
       "[4, 7, 10, 13, 16, 19]"
      ]
     },
     "execution_count": 37,
     "metadata": {},
     "output_type": "execute_result"
    }
   ],
   "source": [
    "list(range(4,20,3))"
   ]
  },
  {
   "cell_type": "code",
   "execution_count": 38,
   "id": "b9e2bbc2-b3b9-416e-b6b7-779e8b1a5169",
   "metadata": {},
   "outputs": [
    {
     "name": "stdout",
     "output_type": "stream",
     "text": [
      "1\n",
      "4\n",
      "9\n",
      "16\n",
      "25\n"
     ]
    }
   ],
   "source": [
    "for n in range(1,6):\n",
    "    print(n*n)\n"
   ]
  },
  {
   "cell_type": "code",
   "execution_count": 41,
   "id": "c53d1710-edd7-4622-aed2-64fcbaafda9a",
   "metadata": {},
   "outputs": [
    {
     "name": "stdout",
     "output_type": "stream",
     "text": [
      "Agnelo\n",
      "Agnelo\n",
      "Agnelo\n",
      "Agnelo\n",
      "Agnelo\n",
      "Agnelo\n",
      "Agnelo\n",
      "Agnelo\n",
      "Agnelo\n",
      "Agnelo\n"
     ]
    }
   ],
   "source": [
    "for i in range(10):\n",
    "    print('Agnelo')"
   ]
  },
  {
   "cell_type": "code",
   "execution_count": 48,
   "id": "628cf9fc-466e-4be8-9d89-a585fb1a85d9",
   "metadata": {},
   "outputs": [
    {
     "name": "stdout",
     "output_type": "stream",
     "text": [
      "100\n"
     ]
    }
   ],
   "source": [
    "count = 0\n",
    "for i in range(1,20,2):\n",
    "    count += i\n",
    "print(count)"
   ]
  },
  {
   "cell_type": "code",
   "execution_count": 49,
   "id": "2215d664-2928-4a0d-a2c3-c2751a9b1d11",
   "metadata": {},
   "outputs": [
    {
     "data": {
      "text/plain": [
       "100"
      ]
     },
     "execution_count": 49,
     "metadata": {},
     "output_type": "execute_result"
    }
   ],
   "source": [
    "sum(range(1,20,2))"
   ]
  },
  {
   "cell_type": "markdown",
   "id": "929640cc-a4f3-491e-b8b6-a38104a2d5d6",
   "metadata": {},
   "source": [
    "#### Break"
   ]
  },
  {
   "cell_type": "code",
   "execution_count": 50,
   "id": "b19fd944-e507-4ac6-8fad-e47be4a38440",
   "metadata": {},
   "outputs": [
    {
     "name": "stdout",
     "output_type": "stream",
     "text": [
      "0\n",
      "1\n",
      "2\n",
      "3\n",
      "4\n"
     ]
    }
   ],
   "source": [
    "for i in range(10):\n",
    "    if i == 5:\n",
    "        break\n",
    "    print(i)\n",
    "    \n"
   ]
  },
  {
   "cell_type": "code",
   "execution_count": 51,
   "id": "9e00a583-8f90-42cd-966f-629eb2d01d3e",
   "metadata": {},
   "outputs": [
    {
     "name": "stdout",
     "output_type": "stream",
     "text": [
      "0\n",
      "1\n",
      "2\n",
      "3\n",
      "4\n",
      "6\n",
      "7\n",
      "8\n",
      "9\n"
     ]
    }
   ],
   "source": [
    "for i in range(10):\n",
    "    if i == 5:\n",
    "        continue # skips the current iteration\n",
    "    print(i)"
   ]
  },
  {
   "cell_type": "code",
   "execution_count": null,
   "id": "5252b17a-c376-4ae0-9e90-966e92b43949",
   "metadata": {},
   "outputs": [],
   "source": []
  }
 ],
 "metadata": {
  "kernelspec": {
   "display_name": "Python 3 (ipykernel)",
   "language": "python",
   "name": "python3"
  },
  "language_info": {
   "codemirror_mode": {
    "name": "ipython",
    "version": 3
   },
   "file_extension": ".py",
   "mimetype": "text/x-python",
   "name": "python",
   "nbconvert_exporter": "python",
   "pygments_lexer": "ipython3",
   "version": "3.12.4"
  }
 },
 "nbformat": 4,
 "nbformat_minor": 5
}
