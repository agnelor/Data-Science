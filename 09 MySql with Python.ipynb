{
 "cells": [
  {
   "cell_type": "code",
   "execution_count": 1,
   "id": "cce0a7fe-c5b0-4075-af02-d9018af0fa44",
   "metadata": {},
   "outputs": [
    {
     "name": "stdout",
     "output_type": "stream",
     "text": [
      "Requirement already satisfied: mysql.connector in c:\\users\\rajesh\\appdata\\roaming\\python\\python312\\site-packages (2.2.9)\n",
      "Note: you may need to restart the kernel to use updated packages.\n"
     ]
    }
   ],
   "source": [
    "pip install mysql.connector\n"
   ]
  },
  {
   "cell_type": "code",
   "execution_count": 2,
   "id": "3f8d5e6e-8abd-495d-a0bb-3a0328722a82",
   "metadata": {},
   "outputs": [],
   "source": [
    "import mysql.connector as sql\n",
    "import pandas as pd\n",
    "db_connection = sql.connect(host='localhost', database='mydb', user='root', password='')\n",
    "db_cursor = db_connection.cursor()\n",
    "db_cursor.execute('select * from student')\n",
    "table_rows = db_cursor.fetchall()\n",
    "df = pd.DataFrame(table_rows)"
   ]
  },
  {
   "cell_type": "code",
   "execution_count": 3,
   "id": "d7ddad1a-f1d7-4ee3-bd6d-0365bbf88ee0",
   "metadata": {},
   "outputs": [
    {
     "name": "stdout",
     "output_type": "stream",
     "text": [
      "     0        1      2  3\n",
      "0    0    James  90.00  B\n",
      "1    1     Greg  69.95  B\n",
      "2    2     Ajay  78.40  A\n",
      "3    3      Ben  99.50  A\n",
      "4    4  Charles  59.50  B\n",
      "5    6     John  59.50  B\n",
      "6    7  Charles  79.50  A\n",
      "7    8    Glenn  68.50  B\n",
      "8    9    James  90.00  A\n",
      "9   10   Joshua  75.50  A\n",
      "10  15     amol  45.87  C\n"
     ]
    }
   ],
   "source": [
    "print(df)\n"
   ]
  },
  {
   "cell_type": "code",
   "execution_count": 6,
   "id": "e5d242c9-8f9d-419b-b0c8-f2daa07cff9d",
   "metadata": {},
   "outputs": [],
   "source": [
    "df.columns = ['roll', 'name', 'marks', 'class']\n",
    "\n",
    "\n"
   ]
  },
  {
   "cell_type": "code",
   "execution_count": 7,
   "id": "0fc71a18-98b1-40c3-a9e0-8b9bb1d586d5",
   "metadata": {},
   "outputs": [
    {
     "name": "stdout",
     "output_type": "stream",
     "text": [
      "    roll     name  marks class\n",
      "0      0    James  90.00     B\n",
      "1      1     Greg  69.95     B\n",
      "2      2     Ajay  78.40     A\n",
      "3      3      Ben  99.50     A\n",
      "4      4  Charles  59.50     B\n",
      "5      6     John  59.50     B\n",
      "6      7  Charles  79.50     A\n",
      "7      8    Glenn  68.50     B\n",
      "8      9    James  90.00     A\n",
      "9     10   Joshua  75.50     A\n",
      "10    15     amol  45.87     C\n"
     ]
    }
   ],
   "source": [
    "print(df)"
   ]
  },
  {
   "cell_type": "code",
   "execution_count": 8,
   "id": "08e25636-239a-49b6-bcb7-aab0f0e43eb4",
   "metadata": {},
   "outputs": [
    {
     "data": {
      "text/plain": [
       "0       James\n",
       "1        Greg\n",
       "2        Ajay\n",
       "3         Ben\n",
       "4     Charles\n",
       "5        John\n",
       "6     Charles\n",
       "7       Glenn\n",
       "8       James\n",
       "9      Joshua\n",
       "10       amol\n",
       "Name: name, dtype: object"
      ]
     },
     "execution_count": 8,
     "metadata": {},
     "output_type": "execute_result"
    }
   ],
   "source": [
    "df.name"
   ]
  },
  {
   "cell_type": "code",
   "execution_count": 9,
   "id": "75235513-43dc-42bc-bdcb-27670520838f",
   "metadata": {},
   "outputs": [
    {
     "data": {
      "text/plain": [
       "Index(['roll', 'name', 'marks', 'class'], dtype='object')"
      ]
     },
     "execution_count": 9,
     "metadata": {},
     "output_type": "execute_result"
    }
   ],
   "source": [
    "df.columns"
   ]
  },
  {
   "cell_type": "code",
   "execution_count": null,
   "id": "4cc43106-8932-4f9a-a7de-733c29691257",
   "metadata": {},
   "outputs": [],
   "source": []
  }
 ],
 "metadata": {
  "kernelspec": {
   "display_name": "Python 3 (ipykernel)",
   "language": "python",
   "name": "python3"
  },
  "language_info": {
   "codemirror_mode": {
    "name": "ipython",
    "version": 3
   },
   "file_extension": ".py",
   "mimetype": "text/x-python",
   "name": "python",
   "nbconvert_exporter": "python",
   "pygments_lexer": "ipython3",
   "version": "3.12.4"
  }
 },
 "nbformat": 4,
 "nbformat_minor": 5
}
