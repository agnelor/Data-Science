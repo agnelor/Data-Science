{
 "cells": [
  {
   "cell_type": "markdown",
   "id": "cfdf367a-ebd5-46d1-bb8d-2e8cb1007896",
   "metadata": {},
   "source": [
    "#### Define Class"
   ]
  },
  {
   "cell_type": "code",
   "execution_count": 9,
   "id": "fe4b01b6-c6f8-4e72-8d24-dd715233ed7a",
   "metadata": {},
   "outputs": [],
   "source": [
    "class Person:\n",
    "    #constructor\n",
    "    def __init__(self, n, a):\n",
    "        self.name = n # instance variables\n",
    "        self.age = a  # name and age are attributes/properties\n",
    "    def show(self):   # function / behaviour\n",
    "        print('My Data:', self.name,self.age)\n",
    "   "
   ]
  },
  {
   "cell_type": "code",
   "execution_count": 3,
   "id": "d8231f39-b67a-43d2-a7ce-14e9ea84e03f",
   "metadata": {},
   "outputs": [],
   "source": [
    "# Create Object\n",
    "obj1 = Person('A', 40)"
   ]
  },
  {
   "cell_type": "code",
   "execution_count": 4,
   "id": "b3c821b6-2d81-4fcc-b731-ab3aeef8ec40",
   "metadata": {},
   "outputs": [
    {
     "data": {
      "text/plain": [
       "('Agnelo', 40)"
      ]
     },
     "execution_count": 4,
     "metadata": {},
     "output_type": "execute_result"
    }
   ],
   "source": [
    "obj1.name, obj1.age"
   ]
  },
  {
   "cell_type": "code",
   "execution_count": 5,
   "id": "a2dfa734-7285-498e-bb65-5fdbb6fc68e9",
   "metadata": {},
   "outputs": [],
   "source": [
    "obj2 = Person('B', 41)"
   ]
  },
  {
   "cell_type": "code",
   "execution_count": 6,
   "id": "caf21ae6-4ab0-4103-a089-326005507d16",
   "metadata": {},
   "outputs": [
    {
     "name": "stdout",
     "output_type": "stream",
     "text": [
      "My Data: Agnelo 40\n"
     ]
    }
   ],
   "source": [
    "obj1.show()"
   ]
  },
  {
   "cell_type": "code",
   "execution_count": 7,
   "id": "82e77b50-bee1-4d42-b638-5f92d41274ec",
   "metadata": {},
   "outputs": [
    {
     "name": "stdout",
     "output_type": "stream",
     "text": [
      "My Data: B 41\n"
     ]
    }
   ],
   "source": [
    "obj2.show()"
   ]
  },
  {
   "cell_type": "code",
   "execution_count": null,
   "id": "493be671-9dc4-4243-8bca-76ff903b08e0",
   "metadata": {},
   "outputs": [],
   "source": [
    "obj1.i"
   ]
  },
  {
   "cell_type": "code",
   "execution_count": 10,
   "id": "0f493887-f229-4b18-a4c6-7c408416bca9",
   "metadata": {},
   "outputs": [],
   "source": [
    "class Person:\n",
    "    #constructor\n",
    "    def __init__(self, n, a):\n",
    "        self.name = n # instance variables\n",
    "        self.age = a  # name and age are attributes/properties\n",
    "    def show(self):   # function / behaviour\n",
    "        print('My Data:', self.name,self.age)\n",
    "    def isEligible(self):\n",
    "        if self.age >=21:\n",
    "            return True\n",
    "        else:\n",
    "            return False"
   ]
  },
  {
   "cell_type": "code",
   "execution_count": 11,
   "id": "05387815-4374-4c58-8cbe-a318a20f20fb",
   "metadata": {},
   "outputs": [],
   "source": [
    "obj3 = Person('C', 18)\n",
    "obj4 = Person('D', 45)"
   ]
  },
  {
   "cell_type": "code",
   "execution_count": 12,
   "id": "3fe4c1d0-e52b-4a3b-85a5-9b9abf98b183",
   "metadata": {},
   "outputs": [
    {
     "data": {
      "text/plain": [
       "False"
      ]
     },
     "execution_count": 12,
     "metadata": {},
     "output_type": "execute_result"
    }
   ],
   "source": [
    "obj3.isEligible()"
   ]
  },
  {
   "cell_type": "code",
   "execution_count": 13,
   "id": "8a7670d7-4746-452f-ac56-a3fc345f00e1",
   "metadata": {},
   "outputs": [
    {
     "data": {
      "text/plain": [
       "True"
      ]
     },
     "execution_count": 13,
     "metadata": {},
     "output_type": "execute_result"
    }
   ],
   "source": [
    "obj4.isEligible()"
   ]
  },
  {
   "cell_type": "code",
   "execution_count": 14,
   "id": "ab67d203-0d9f-4dd1-a1a4-d837ce3183da",
   "metadata": {},
   "outputs": [
    {
     "name": "stdout",
     "output_type": "stream",
     "text": [
      "My Data: Agnelo 40\n"
     ]
    }
   ],
   "source": [
    "obj1.show()"
   ]
  },
  {
   "cell_type": "code",
   "execution_count": null,
   "id": "61748a3c-1430-4e18-9bf1-acf4cfdd40a4",
   "metadata": {},
   "outputs": [],
   "source": []
  }
 ],
 "metadata": {
  "kernelspec": {
   "display_name": "Python 3 (ipykernel)",
   "language": "python",
   "name": "python3"
  },
  "language_info": {
   "codemirror_mode": {
    "name": "ipython",
    "version": 3
   },
   "file_extension": ".py",
   "mimetype": "text/x-python",
   "name": "python",
   "nbconvert_exporter": "python",
   "pygments_lexer": "ipython3",
   "version": "3.12.4"
  }
 },
 "nbformat": 4,
 "nbformat_minor": 5
}
