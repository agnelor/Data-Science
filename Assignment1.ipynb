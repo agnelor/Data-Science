{
 "cells": [
  {
   "cell_type": "code",
   "execution_count": 2,
   "metadata": {},
   "outputs": [
    {
     "name": "stdout",
     "output_type": "stream",
     "text": [
      "Enter the value in Celsius:34\n",
      "The value in Farenheit is: 93.2\n"
     ]
    }
   ],
   "source": [
    "num = float(input('Enter the value in Celsius:'))\n",
    "farenheit = (1.8 * num) + 32\n",
    "print('The value in Farenheit is:', float(farenheit)) "
   ]
  },
  {
   "cell_type": "code",
   "execution_count": 7,
   "metadata": {},
   "outputs": [
    {
     "name": "stdout",
     "output_type": "stream",
     "text": [
      "Please enter the radius of the circle:5\n",
      "The perimeter of the circle is: 31.41592653589793\n"
     ]
    }
   ],
   "source": [
    "import math as m\n",
    "radius = int(input(\"Please enter the radius of the circle:\"))\n",
    "perimeter = 2*m.pi*radius\n",
    "print('The perimeter of the circle is:', float(perimeter))"
   ]
  },
  {
   "cell_type": "code",
   "execution_count": 9,
   "metadata": {},
   "outputs": [
    {
     "name": "stdout",
     "output_type": "stream",
     "text": [
      "Enter the amount:5000\n",
      "Please enter the interest: 8\n",
      "Final amount: 5400.0\n"
     ]
    }
   ],
   "source": [
    "amount = int(input('Enter the amount:'))\n",
    "percent = float(input('Please enter the interest: '))\n",
    "interest = (percent * amount) / 100\n",
    "print(\"Final amount:\", amount + interest)\n",
    "\n"
   ]
  },
  {
   "cell_type": "code",
   "execution_count": 12,
   "metadata": {},
   "outputs": [
    {
     "name": "stdout",
     "output_type": "stream",
     "text": [
      "Enter the distance in meters: 5\n",
      "Distance in centimetres: 500\n"
     ]
    }
   ],
   "source": [
    "meter = int(input(\"Enter the distance in meters: \"))\n",
    "print(\"Distance in centimetres:\",meter*100)\n",
    "print(\"Distance in inches:\",meter*100)"
   ]
  },
  {
   "cell_type": "code",
   "execution_count": 18,
   "metadata": {},
   "outputs": [
    {
     "name": "stdout",
     "output_type": "stream",
     "text": [
      "Enter the actual cost: 375\n",
      "Enter the selling cost: 300\n",
      "Loss is: 75.0\n"
     ]
    }
   ],
   "source": [
    "actual_cost = float(input(\"Enter the actual cost: \"))\n",
    "selling_cost = float(input(\"Enter the selling cost: \"))\n",
    "profit = selling_cost - actual_cost\n",
    "if profit > 0:\n",
    "    print(\"Profit is:\", profit)\n",
    "elif profit == 0:\n",
    "    print(\"There is neither profit nor loss\")\n",
    "else:\n",
    "    print(\"Loss is:\", abs(profit))\n"
   ]
  },
  {
   "cell_type": "code",
   "execution_count": 29,
   "metadata": {},
   "outputs": [
    {
     "name": "stdout",
     "output_type": "stream",
     "text": [
      "Enter the basic salary: 12000\n",
      "Gross salary is: 22500.0\n"
     ]
    }
   ],
   "source": [
    "basic = float(input(\"Enter the basic salary: \"))\n",
    "da = float((75/100)*basic)\n",
    "hra = float(basic/4)\n",
    "if basic < 10000:\n",
    "    print(\"Gross salary is:\", basic+da)\n",
    "elif basic >= 10000 and basic < 20000:\n",
    "    print(\"Gross salary is:\", basic+da+(hra/2))\n",
    "else:\n",
    "    print(\"Gross salary is:\", basic+da+hra)\n"
   ]
  },
  {
   "cell_type": "code",
   "execution_count": 38,
   "metadata": {},
   "outputs": [
    {
     "name": "stdout",
     "output_type": "stream",
     "text": [
      "Please enter a number: 5\n",
      "The factorial is 120\n"
     ]
    }
   ],
   "source": [
    "num = int(input(\"Please enter a number: \"))\n",
    "fact = 1\n",
    "while num > 0:\n",
    "    fact *= num\n",
    "    num = num - 1\n",
    "print(\"The factorial is\", fact)    \n",
    "    \n"
   ]
  },
  {
   "cell_type": "code",
   "execution_count": 88,
   "metadata": {},
   "outputs": [
    {
     "name": "stdout",
     "output_type": "stream",
     "text": [
      "Please enter the first number: 5\n",
      "Please enter the second number: 5\n"
     ]
    },
    {
     "data": {
      "text/plain": [
       "0"
      ]
     },
     "execution_count": 88,
     "metadata": {},
     "output_type": "execute_result"
    }
   ],
   "source": [
    "num1 = int(input(\"Please enter the first number: \"))\n",
    "num2 = int(input(\"Please enter the second number: \"))\n",
    "arr = []\n",
    "if num2 > num1:\n",
    "    count = num1 + 1\n",
    "    while count < num2:\n",
    "        arr.append(count)\n",
    "        count += 1\n",
    "else:\n",
    "    count = num2 + 1\n",
    "    while count < num1:\n",
    "        arr.append(count)\n",
    "        count += 1\n",
    "        \n",
    "sum(arr)        \n",
    "            \n",
    "            \n",
    "\n",
    "         \n"
   ]
  },
  {
   "cell_type": "code",
   "execution_count": 87,
   "metadata": {},
   "outputs": [
    {
     "name": "stdout",
     "output_type": "stream",
     "text": [
      "[35, 41, 43, 71, 55]\n",
      "[56, 2, 48, 32, 56, 68]\n"
     ]
    }
   ],
   "source": [
    "num = (56,2,35,41,43,48,32,56,71,55,68)\n",
    "odd =  [n for n in num if n % 2 ==1]\n",
    "even = [n for n in num if n % 2 ==0]\n",
    "print(odd)\n",
    "print(even)"
   ]
  },
  {
   "cell_type": "code",
   "execution_count": 48,
   "metadata": {},
   "outputs": [
    {
     "name": "stdout",
     "output_type": "stream",
     "text": [
      "Please enter a number: 0\n",
      "The number is neither odd nor even\n"
     ]
    }
   ],
   "source": [
    "num = int(input(\"Please enter a number: \"))\n",
    "def check(num):\n",
    "    if num % 2 == 1:\n",
    "        return 'Odd'\n",
    "    elif num == 0:\n",
    "        return'neither odd nor even'\n",
    "    else:\n",
    "        return 'even'\n",
    "\n",
    "\n",
    "print('The number is', check(num))"
   ]
  },
  {
   "cell_type": "code",
   "execution_count": 50,
   "metadata": {},
   "outputs": [
    {
     "name": "stdout",
     "output_type": "stream",
     "text": [
      "Please enter a number: 5\n",
      "The square root is:  2.23606797749979\n",
      "The sin is:  -0.9589242746631385\n",
      "The tan is:  -3.380515006246586\n",
      "The log is:  1.6094379124341003\n",
      "The factorial is:  120\n"
     ]
    }
   ],
   "source": [
    "import math as m\n",
    "num = int(input(\"Please enter a number: \"))\n",
    "print(\"The square root is: \", m.sqrt(num))\n",
    "print(\"The sin is: \", m.sin(num))\n",
    "print(\"The tan is: \", m.tan(num))\n",
    "print(\"The log is: \", m.log(num))\n",
    "print(\"The factorial is: \", m.factorial(num))"
   ]
  },
  {
   "cell_type": "code",
   "execution_count": 59,
   "metadata": {},
   "outputs": [],
   "source": [
    "class Rectangle:\n",
    "    def calculate(self, L, B):  \n",
    "        self.length = L \n",
    "        self.bredth = B \n",
    "        print('The area of rectangle is:', self.length * self.bredth)\n",
    "   "
   ]
  },
  {
   "cell_type": "code",
   "execution_count": 60,
   "metadata": {},
   "outputs": [],
   "source": [
    "rect1 = Rectangle()\n"
   ]
  },
  {
   "cell_type": "code",
   "execution_count": 61,
   "metadata": {},
   "outputs": [
    {
     "name": "stdout",
     "output_type": "stream",
     "text": [
      "The area of rectangle is: 30\n"
     ]
    }
   ],
   "source": [
    "rect1.calculate(5,6)"
   ]
  },
  {
   "cell_type": "code",
   "execution_count": null,
   "metadata": {},
   "outputs": [],
   "source": []
  }
 ],
 "metadata": {
  "kernelspec": {
   "display_name": "Python 3",
   "language": "python",
   "name": "python3"
  },
  "language_info": {
   "codemirror_mode": {
    "name": "ipython",
    "version": 3
   },
   "file_extension": ".py",
   "mimetype": "text/x-python",
   "name": "python",
   "nbconvert_exporter": "python",
   "pygments_lexer": "ipython3",
   "version": "3.6.6rc1"
  }
 },
 "nbformat": 4,
 "nbformat_minor": 2
}
