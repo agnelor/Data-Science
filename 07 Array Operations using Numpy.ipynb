{
 "cells": [
  {
   "cell_type": "markdown",
   "id": "0b821d2a-2817-4d8d-af64-32eb42f2a309",
   "metadata": {},
   "source": [
    "#### Numpy - Array "
   ]
  },
  {
   "cell_type": "code",
   "execution_count": 43,
   "id": "8d7daba0-8a00-44bf-b9f6-3f0aa7c874d7",
   "metadata": {},
   "outputs": [],
   "source": [
    "import numpy as np\n",
    "num = np.array([56, 33, 12, 78, 52, 68, 25])\n"
   ]
  },
  {
   "cell_type": "code",
   "execution_count": 3,
   "id": "aed3bef4-7dc4-4493-97d0-916df978b3ac",
   "metadata": {},
   "outputs": [
    {
     "data": {
      "text/plain": [
       "numpy.ndarray"
      ]
     },
     "execution_count": 3,
     "metadata": {},
     "output_type": "execute_result"
    }
   ],
   "source": [
    "type(num)"
   ]
  },
  {
   "cell_type": "code",
   "execution_count": 4,
   "id": "fda15ebf-9312-438e-8ad6-a35d00d3b2e8",
   "metadata": {},
   "outputs": [
    {
     "name": "stdout",
     "output_type": "stream",
     "text": [
      "[56 33 12 78 52 68 25]\n"
     ]
    }
   ],
   "source": [
    "print(num)\n"
   ]
  },
  {
   "cell_type": "code",
   "execution_count": 5,
   "id": "3740e75b-7edf-4c92-aad7-81d998eab380",
   "metadata": {},
   "outputs": [
    {
     "data": {
      "text/plain": [
       "dtype('int32')"
      ]
     },
     "execution_count": 5,
     "metadata": {},
     "output_type": "execute_result"
    }
   ],
   "source": [
    "num.dtype\n"
   ]
  },
  {
   "cell_type": "code",
   "execution_count": 6,
   "id": "843e1214-d8b7-42be-87c9-d1b990ff2eea",
   "metadata": {},
   "outputs": [],
   "source": [
    "dtype=int(16)"
   ]
  },
  {
   "cell_type": "code",
   "execution_count": 7,
   "id": "b2aa9eb8-e434-4fc4-be9d-2c1808cbdaaf",
   "metadata": {},
   "outputs": [
    {
     "data": {
      "text/plain": [
       "dtype('int32')"
      ]
     },
     "execution_count": 7,
     "metadata": {},
     "output_type": "execute_result"
    }
   ],
   "source": [
    "num.dtype\n"
   ]
  },
  {
   "cell_type": "code",
   "execution_count": 8,
   "id": "55052120-c030-4017-bcc0-3e7a788153fb",
   "metadata": {},
   "outputs": [
    {
     "data": {
      "text/plain": [
       "68"
      ]
     },
     "execution_count": 8,
     "metadata": {},
     "output_type": "execute_result"
    }
   ],
   "source": [
    "num[5]"
   ]
  },
  {
   "cell_type": "code",
   "execution_count": 9,
   "id": "024c265d-05d8-4d4f-89de-c11edee7b27d",
   "metadata": {},
   "outputs": [],
   "source": [
    "num[5]=61"
   ]
  },
  {
   "cell_type": "code",
   "execution_count": 10,
   "id": "f32098f3-44cf-45be-9ddb-421f014aa998",
   "metadata": {},
   "outputs": [
    {
     "data": {
      "text/plain": [
       "array([56, 33, 12, 78, 52, 61, 25])"
      ]
     },
     "execution_count": 10,
     "metadata": {},
     "output_type": "execute_result"
    }
   ],
   "source": [
    "num"
   ]
  },
  {
   "cell_type": "code",
   "execution_count": 11,
   "id": "89af770d-e0b2-4350-8713-6c1ef8b26169",
   "metadata": {},
   "outputs": [
    {
     "data": {
      "text/plain": [
       "1"
      ]
     },
     "execution_count": 11,
     "metadata": {},
     "output_type": "execute_result"
    }
   ],
   "source": [
    "num.ndim # Dimension\n"
   ]
  },
  {
   "cell_type": "code",
   "execution_count": 12,
   "id": "84e6b08e-2032-4117-80f5-bec069627dc5",
   "metadata": {},
   "outputs": [
    {
     "data": {
      "text/plain": [
       "12"
      ]
     },
     "execution_count": 12,
     "metadata": {},
     "output_type": "execute_result"
    }
   ],
   "source": [
    "num.min()"
   ]
  },
  {
   "cell_type": "code",
   "execution_count": 13,
   "id": "d6a0c159-1078-4e20-9a03-c03560abfd41",
   "metadata": {},
   "outputs": [
    {
     "data": {
      "text/plain": [
       "78"
      ]
     },
     "execution_count": 13,
     "metadata": {},
     "output_type": "execute_result"
    }
   ],
   "source": [
    "num.max()"
   ]
  },
  {
   "cell_type": "code",
   "execution_count": 14,
   "id": "cda986af-26c0-40eb-a2d1-429bca043cd3",
   "metadata": {},
   "outputs": [
    {
     "data": {
      "text/plain": [
       "45.285714285714285"
      ]
     },
     "execution_count": 14,
     "metadata": {},
     "output_type": "execute_result"
    }
   ],
   "source": [
    "num.mean()"
   ]
  },
  {
   "cell_type": "code",
   "execution_count": 19,
   "id": "a4997247-70e0-41a5-94ae-cacef5c04f41",
   "metadata": {},
   "outputs": [
    {
     "data": {
      "text/plain": [
       "dtype('float64')"
      ]
     },
     "execution_count": 19,
     "metadata": {},
     "output_type": "execute_result"
    }
   ],
   "source": [
    "num1 = np.array([45.4, 58.9, 23.67, 90.9])\n",
    "num1.dtype"
   ]
  },
  {
   "cell_type": "code",
   "execution_count": 21,
   "id": "069ebc58-2ac4-4bb4-a660-5bdaef10cb94",
   "metadata": {},
   "outputs": [
    {
     "data": {
      "text/plain": [
       "array([23.67, 45.4 , 58.9 , 90.9 ])"
      ]
     },
     "execution_count": 21,
     "metadata": {},
     "output_type": "execute_result"
    }
   ],
   "source": [
    "num1.sort()\n",
    "num1"
   ]
  },
  {
   "cell_type": "code",
   "execution_count": 22,
   "id": "e13770d5-22b7-47b3-93ab-2713c1cbed2f",
   "metadata": {},
   "outputs": [
    {
     "data": {
      "text/plain": [
       "array([112,  66,  24, 156, 104, 122,  50])"
      ]
     },
     "execution_count": 22,
     "metadata": {},
     "output_type": "execute_result"
    }
   ],
   "source": [
    "num *2"
   ]
  },
  {
   "cell_type": "code",
   "execution_count": 23,
   "id": "82cdb39e-dbdc-421e-a121-d3ae9be7eb39",
   "metadata": {},
   "outputs": [
    {
     "data": {
      "text/plain": [
       "array([56, 78, 52, 61])"
      ]
     },
     "execution_count": 23,
     "metadata": {},
     "output_type": "execute_result"
    }
   ],
   "source": [
    "num[num > 40] # Conditional Filter"
   ]
  },
  {
   "cell_type": "code",
   "execution_count": 24,
   "id": "29a7913c-5f08-4d5d-a048-3d5670fcf737",
   "metadata": {},
   "outputs": [
    {
     "data": {
      "text/plain": [
       "array([33, 12, 25])"
      ]
     },
     "execution_count": 24,
     "metadata": {},
     "output_type": "execute_result"
    }
   ],
   "source": [
    "num[num < 50]"
   ]
  },
  {
   "cell_type": "markdown",
   "id": "c9644187-95f4-43d9-9828-ce1fb508d2be",
   "metadata": {},
   "source": [
    "#### Two Dimensional Array"
   ]
  },
  {
   "cell_type": "code",
   "execution_count": 26,
   "id": "ab1514fd-2763-48c2-8b0e-8142b7eaaa75",
   "metadata": {},
   "outputs": [
    {
     "data": {
      "text/plain": [
       "array([[5, 6, 7],\n",
       "       [2, 3, 4],\n",
       "       [1, 2, 3]])"
      ]
     },
     "execution_count": 26,
     "metadata": {},
     "output_type": "execute_result"
    }
   ],
   "source": [
    "M = np.array([[5,6,7],[2,3,4],[1,2,3]]) ## Array of Array\n",
    "M"
   ]
  },
  {
   "cell_type": "code",
   "execution_count": 27,
   "id": "2bcb6d7e-4772-46a5-af70-a3bbffe6a4d9",
   "metadata": {},
   "outputs": [
    {
     "data": {
      "text/plain": [
       "2"
      ]
     },
     "execution_count": 27,
     "metadata": {},
     "output_type": "execute_result"
    }
   ],
   "source": [
    "M.ndim #Dimension"
   ]
  },
  {
   "cell_type": "code",
   "execution_count": 28,
   "id": "e5c08483-6576-4823-9227-b6144cf7d40f",
   "metadata": {},
   "outputs": [
    {
     "data": {
      "text/plain": [
       "(3, 3)"
      ]
     },
     "execution_count": 28,
     "metadata": {},
     "output_type": "execute_result"
    }
   ],
   "source": [
    "M.shape \n"
   ]
  },
  {
   "cell_type": "code",
   "execution_count": 29,
   "id": "b6d6fc7b-827c-4a2c-b23f-6b94f90f8ee5",
   "metadata": {},
   "outputs": [
    {
     "data": {
      "text/plain": [
       "9"
      ]
     },
     "execution_count": 29,
     "metadata": {},
     "output_type": "execute_result"
    }
   ],
   "source": [
    "M.size #No. of Elements"
   ]
  },
  {
   "cell_type": "code",
   "execution_count": 30,
   "id": "3a983dc1-194f-4eae-ae42-0cb57621f17f",
   "metadata": {},
   "outputs": [
    {
     "data": {
      "text/plain": [
       "6"
      ]
     },
     "execution_count": 30,
     "metadata": {},
     "output_type": "execute_result"
    }
   ],
   "source": [
    "M[0,1] # Value in position"
   ]
  },
  {
   "cell_type": "code",
   "execution_count": 31,
   "id": "850fb96c-00fb-41a1-9ccb-cd6402c5373a",
   "metadata": {},
   "outputs": [
    {
     "data": {
      "text/plain": [
       "array([[5, 7, 7],\n",
       "       [2, 3, 4],\n",
       "       [1, 2, 3]])"
      ]
     },
     "execution_count": 31,
     "metadata": {},
     "output_type": "execute_result"
    }
   ],
   "source": [
    "M[0,1] = 7\n",
    "M"
   ]
  },
  {
   "cell_type": "code",
   "execution_count": 33,
   "id": "bf18a616-27e7-4739-96fe-56c6c5651761",
   "metadata": {},
   "outputs": [
    {
     "data": {
      "text/plain": [
       "array([[5, 2, 1],\n",
       "       [7, 3, 2],\n",
       "       [7, 4, 3]])"
      ]
     },
     "execution_count": 33,
     "metadata": {},
     "output_type": "execute_result"
    }
   ],
   "source": [
    "M.T"
   ]
  },
  {
   "cell_type": "code",
   "execution_count": 34,
   "id": "cfa488ec-e1d3-4a86-a373-7c5cce02c36d",
   "metadata": {},
   "outputs": [
    {
     "data": {
      "text/plain": [
       "array([[5, 2, 1],\n",
       "       [7, 3, 2],\n",
       "       [7, 4, 3]])"
      ]
     },
     "execution_count": 34,
     "metadata": {},
     "output_type": "execute_result"
    }
   ],
   "source": [
    "M.transpose()"
   ]
  },
  {
   "cell_type": "code",
   "execution_count": 36,
   "id": "e22d43a3-a3e0-46bc-9134-4e90965a4fed",
   "metadata": {},
   "outputs": [
    {
     "data": {
      "text/plain": [
       "array([[5, 7, 7],\n",
       "       [2, 3, 4],\n",
       "       [1, 2, 3]])"
      ]
     },
     "execution_count": 36,
     "metadata": {},
     "output_type": "execute_result"
    }
   ],
   "source": [
    "M.reshape(3,3)"
   ]
  },
  {
   "cell_type": "code",
   "execution_count": 37,
   "id": "b258de83-1fc0-438f-9b22-9c3bb989a952",
   "metadata": {},
   "outputs": [
    {
     "data": {
      "text/plain": [
       "array([5, 7, 7, 2, 3, 4, 1, 2, 3])"
      ]
     },
     "execution_count": 37,
     "metadata": {},
     "output_type": "execute_result"
    }
   ],
   "source": [
    "M.flatten()"
   ]
  },
  {
   "cell_type": "code",
   "execution_count": 38,
   "id": "fd25aef1-6e21-4d47-86ff-af863c259505",
   "metadata": {},
   "outputs": [
    {
     "data": {
      "text/plain": [
       "array([5, 7, 7, 2, 3, 4, 1, 2, 3])"
      ]
     },
     "execution_count": 38,
     "metadata": {},
     "output_type": "execute_result"
    }
   ],
   "source": [
    "M.reshape(9)"
   ]
  },
  {
   "cell_type": "code",
   "execution_count": 40,
   "id": "979804bd-e46c-4829-a245-2065a4a2ebc0",
   "metadata": {},
   "outputs": [
    {
     "data": {
      "text/plain": [
       "array([[5, 7, 7],\n",
       "       [2, 3, 4],\n",
       "       [1, 2, 3]])"
      ]
     },
     "execution_count": 40,
     "metadata": {},
     "output_type": "execute_result"
    }
   ],
   "source": [
    "M.reshape(-1,3)"
   ]
  },
  {
   "cell_type": "code",
   "execution_count": null,
   "id": "608f2ace-13d0-44bc-82ee-cf1154bc597c",
   "metadata": {},
   "outputs": [],
   "source": []
  }
 ],
 "metadata": {
  "kernelspec": {
   "display_name": "Python 3 (ipykernel)",
   "language": "python",
   "name": "python3"
  },
  "language_info": {
   "codemirror_mode": {
    "name": "ipython",
    "version": 3
   },
   "file_extension": ".py",
   "mimetype": "text/x-python",
   "name": "python",
   "nbconvert_exporter": "python",
   "pygments_lexer": "ipython3",
   "version": "3.12.4"
  }
 },
 "nbformat": 4,
 "nbformat_minor": 5
}
