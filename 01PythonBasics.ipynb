{
 "cells": [
  {
   "cell_type": "code",
   "execution_count": 1,
   "id": "fe87e061-30a1-4672-9d04-c141d10f8b94",
   "metadata": {},
   "outputs": [
    {
     "name": "stdout",
     "output_type": "stream",
     "text": [
      "Hello World\n"
     ]
    }
   ],
   "source": [
    "print('Hello World')"
   ]
  },
  {
   "cell_type": "code",
   "execution_count": 3,
   "id": "db9c5435-19a2-445e-9492-71e3e68df6e3",
   "metadata": {},
   "outputs": [
    {
     "name": "stdout",
     "output_type": "stream",
     "text": [
      "Hello World\n",
      "Welcome to the world of Python\n",
      "Bye\n"
     ]
    }
   ],
   "source": [
    "print('Hello World')\n",
    "print('Welcome to the world of Python')\n",
    "print('Bye')"
   ]
  },
  {
   "cell_type": "code",
   "execution_count": 13,
   "id": "9a770413-faea-406f-885f-24b72cff9cee",
   "metadata": {},
   "outputs": [
    {
     "name": "stdout",
     "output_type": "stream",
     "text": [
      "110.6\n"
     ]
    },
    {
     "data": {
      "text/plain": [
       "float"
      ]
     },
     "execution_count": 13,
     "metadata": {},
     "output_type": "execute_result"
    }
   ],
   "source": [
    "num1 = 50.6\n",
    "num2 = 60\n",
    "add = num1 + num2\n",
    "print(add)\n",
    "type(num1)"
   ]
  },
  {
   "cell_type": "code",
   "execution_count": 14,
   "id": "b744d775-d499-4ca3-a59c-27fbe98dbe0c",
   "metadata": {},
   "outputs": [
    {
     "data": {
      "text/plain": [
       "float"
      ]
     },
     "execution_count": 14,
     "metadata": {},
     "output_type": "execute_result"
    }
   ],
   "source": [
    "num1 = 32.78\n",
    "type(num1)"
   ]
  },
  {
   "cell_type": "code",
   "execution_count": 19,
   "id": "40041f82-37e1-44af-b95a-004f09aacd38",
   "metadata": {},
   "outputs": [
    {
     "name": "stdout",
     "output_type": "stream",
     "text": [
      "My name is Agnelo\n"
     ]
    }
   ],
   "source": [
    "name = 'Agnelo'\n",
    "type(name)\n"
   ]
  },
  {
   "cell_type": "code",
   "execution_count": 16,
   "id": "c044c203-b8f2-4282-a821-7fc6e151ff7f",
   "metadata": {},
   "outputs": [
    {
     "data": {
      "text/plain": [
       "int"
      ]
     },
     "execution_count": 16,
     "metadata": {},
     "output_type": "execute_result"
    }
   ],
   "source": [
    "num1, num2, num3 = 56, 'twenty', 50.5\n",
    "type(num1)"
   ]
  },
  {
   "cell_type": "code",
   "execution_count": 17,
   "id": "f83207e5-923e-4474-9f5f-415497e0e2ce",
   "metadata": {},
   "outputs": [
    {
     "name": "stdout",
     "output_type": "stream",
     "text": [
      "35 <class 'int'>\n"
     ]
    }
   ],
   "source": [
    "num1 = num2 = num3 = 35\n",
    "print(num1, type(num1))"
   ]
  },
  {
   "cell_type": "code",
   "execution_count": 20,
   "id": "a777d9c7-1022-4c62-be6b-8e95e7ea4097",
   "metadata": {},
   "outputs": [
    {
     "name": "stdout",
     "output_type": "stream",
     "text": [
      "My name is Agnelo\n"
     ]
    }
   ],
   "source": [
    "name = 'Agnelo'\n",
    "marks = 73\n",
    "print('My name is', name)"
   ]
  },
  {
   "cell_type": "code",
   "execution_count": 21,
   "id": "cd7ac96f-6975-4e8e-84c7-148685f7c7af",
   "metadata": {},
   "outputs": [
    {
     "name": "stdout",
     "output_type": "stream",
     "text": [
      "My name is Agnelo and my marks are 73\n"
     ]
    }
   ],
   "source": [
    "name = 'Agnelo'\n",
    "marks = 73\n",
    "print('My name is', name, 'and my marks are', marks)"
   ]
  },
  {
   "cell_type": "code",
   "execution_count": 22,
   "id": "f16e7822-201f-4191-9f73-af4dee75c626",
   "metadata": {},
   "outputs": [
    {
     "name": "stdout",
     "output_type": "stream",
     "text": [
      "My name is Agnelo and my marks are 73.000000\n"
     ]
    }
   ],
   "source": [
    "name = 'Agnelo'\n",
    "marks = 73\n",
    "print('My name is %s and my marks are %f' %(name,marks))"
   ]
  },
  {
   "cell_type": "code",
   "execution_count": 23,
   "id": "c1a945d6-3ccd-417b-99d0-91d4aa63032a",
   "metadata": {},
   "outputs": [
    {
     "name": "stdout",
     "output_type": "stream",
     "text": [
      "My name is Agnelo and my marks are 73.0\n"
     ]
    }
   ],
   "source": [
    "print('My name is %s and my marks are %.1f' %(name,marks))"
   ]
  },
  {
   "cell_type": "code",
   "execution_count": 24,
   "id": "ca527ae2-fb5b-4296-8160-fd02a6d41e3b",
   "metadata": {},
   "outputs": [
    {
     "name": "stdout",
     "output_type": "stream",
     "text": [
      "My name is Agnelo and my marks are 73.00\n"
     ]
    }
   ],
   "source": [
    "print('My name is %s and my marks are %.2f' %(name,marks))"
   ]
  },
  {
   "cell_type": "code",
   "execution_count": 25,
   "id": "5a58ae1b-e3c2-45fc-a998-507b887a4135",
   "metadata": {},
   "outputs": [
    {
     "name": "stdout",
     "output_type": "stream",
     "text": [
      "My name is Agnelo and my marks are 73\n"
     ]
    }
   ],
   "source": [
    "print('My name is %s and my marks are %i' %(name,marks))"
   ]
  },
  {
   "cell_type": "code",
   "execution_count": 27,
   "id": "434791ac-7386-4065-9b49-82afd5b21a00",
   "metadata": {},
   "outputs": [
    {
     "name": "stdout",
     "output_type": "stream",
     "text": [
      "Addition of 50 and 60 is 110\n"
     ]
    }
   ],
   "source": [
    "#Addition Program\n",
    "num1 = 50\n",
    "num2 = 60\n",
    "add = num1 + num2 #Perform Addition\n",
    "print('Addition of %i and %i is %i' %(num1,num2,add))\n"
   ]
  },
  {
   "cell_type": "code",
   "execution_count": 28,
   "id": "00317c12-10df-4d45-9476-d465c7220b03",
   "metadata": {},
   "outputs": [
    {
     "name": "stdout",
     "output_type": "stream",
     "text": [
      "Addition of 50 and 60 is 110\n"
     ]
    }
   ],
   "source": [
    "num1 = 50; num2 = 60; add = num1 + num2; print('Addition of %i and %i is %i' %(num1,num2,add))"
   ]
  },
  {
   "cell_type": "code",
   "execution_count": null,
   "id": "4939cc84-1137-48b5-b92d-059ee244d3b9",
   "metadata": {},
   "outputs": [],
   "source": [
    "#### Operators"
   ]
  },
  {
   "cell_type": "markdown",
   "id": "3154bb79-530d-4a1a-9961-ba8a6bfcb626",
   "metadata": {},
   "source": [
    "#### Operators "
   ]
  },
  {
   "cell_type": "markdown",
   "id": "c90b42bb-eeb8-4c41-9b90-942450cc9967",
   "metadata": {},
   "source": [
    "##### Arithmetic Operators"
   ]
  },
  {
   "cell_type": "code",
   "execution_count": 35,
   "id": "d40708f7-ffc8-41ab-95e9-721cd5f8c9b4",
   "metadata": {},
   "outputs": [
    {
     "name": "stdout",
     "output_type": "stream",
     "text": [
      "Addition is: 35\n",
      "Subtraction is: 23\n",
      "Multiplication is: 174\n",
      "Division is: 4.833333333333333\n",
      "Floor Division is: 4\n",
      "Modulo Division is: 5\n",
      "Raised to: 594823321\n"
     ]
    }
   ],
   "source": [
    "num1 = 29\n",
    "num2 = 6\n",
    "print('Addition is:', num1 + num2) # Addition\n",
    "print('Subtraction is:', num1 - num2) # Subtraction\n",
    "print('Multiplication is:', num1 * num2) # Multiplication\n",
    "print('Division is:', num1 / num2) # Division\n",
    "print('Floor Division is:', num1 // num2) # Floor Division\n",
    "print('Modulo Division is:', num1 % num2) # Modulo Division\n",
    "print('Raised to:', num1 ** num2) # Power of\n"
   ]
  },
  {
   "cell_type": "markdown",
   "id": "edef9ba8-37f8-4021-a0e1-bf7e9594ab41",
   "metadata": {},
   "source": [
    "##### Assignment Operator"
   ]
  },
  {
   "cell_type": "code",
   "execution_count": 41,
   "id": "927441a6-b2c3-4cf0-ac06-a4ab4b2f4c74",
   "metadata": {},
   "outputs": [
    {
     "name": "stdout",
     "output_type": "stream",
     "text": [
      "100\n",
      "5000\n"
     ]
    }
   ],
   "source": [
    "num1 = 50\n",
    "num1 += 50\n",
    "print(num1)\n",
    "num1 *= 50\n",
    "print(num1)"
   ]
  },
  {
   "cell_type": "markdown",
   "id": "59718d73-9f11-497c-bcb7-dbb1951b6b25",
   "metadata": {},
   "source": [
    "##### Relational Operators"
   ]
  },
  {
   "cell_type": "code",
   "execution_count": 43,
   "id": "3fc20d84-4157-4bc0-81f2-7d5670246a73",
   "metadata": {},
   "outputs": [
    {
     "name": "stdout",
     "output_type": "stream",
     "text": [
      "Greater Than: False\n",
      "Greater Than / Equal: False\n",
      "Less Than: True\n",
      "Less Than / Equal: True\n",
      "Equal: False\n",
      "Equal: True\n"
     ]
    }
   ],
   "source": [
    "num1 = 25\n",
    "num2 = 30\n",
    "print('Greater Than:', num1 > num2)\n",
    "print('Greater Than / Equal:', num1 >= num2)\n",
    "print('Less Than:', num1 < num2)\n",
    "print('Less Than / Equal:', num1 <= num2)\n",
    "print('Equal:', num1 == num2)\n",
    "print('Equal:', num1 != num2)\n"
   ]
  },
  {
   "cell_type": "markdown",
   "id": "de7f7de7-a723-4326-ab73-20a8b312eacf",
   "metadata": {},
   "source": [
    "##### Logical Operators"
   ]
  },
  {
   "cell_type": "code",
   "execution_count": 47,
   "id": "e6056c0b-0baa-47f7-acec-5a135aacef20",
   "metadata": {},
   "outputs": [
    {
     "name": "stdout",
     "output_type": "stream",
     "text": [
      "AND: False\n"
     ]
    }
   ],
   "source": [
    "num1 = 25\n",
    "num2 = 30\n",
    "print('AND:', (num1 > num2) and (num1 < 100))"
   ]
  },
  {
   "cell_type": "code",
   "execution_count": 49,
   "id": "83587cfe-8c92-4686-ac62-cb3553a9abd2",
   "metadata": {},
   "outputs": [
    {
     "name": "stdout",
     "output_type": "stream",
     "text": [
      "OR: True\n"
     ]
    }
   ],
   "source": [
    "print('OR:', (num1 < num2) and (num1 < 100))"
   ]
  },
  {
   "cell_type": "markdown",
   "id": "fc06ae4f-28dc-468b-9f70-d28ce92977c1",
   "metadata": {},
   "source": [
    "##### Membership Selection"
   ]
  },
  {
   "cell_type": "code",
   "execution_count": 50,
   "id": "5c0946bf-bbe4-4b4b-a2a6-c506a0ee84e2",
   "metadata": {},
   "outputs": [
    {
     "data": {
      "text/plain": [
       "True"
      ]
     },
     "execution_count": 50,
     "metadata": {},
     "output_type": "execute_result"
    }
   ],
   "source": [
    "name = 'Agnelo'\n",
    "'e' in name"
   ]
  },
  {
   "cell_type": "code",
   "execution_count": 51,
   "id": "42b2b795-8926-4f3e-aa3f-c5fe2e9bc927",
   "metadata": {},
   "outputs": [
    {
     "data": {
      "text/plain": [
       "False"
      ]
     },
     "execution_count": 51,
     "metadata": {},
     "output_type": "execute_result"
    }
   ],
   "source": [
    "arr = [3,4,6,8,9]\n",
    "2 in arr"
   ]
  },
  {
   "cell_type": "code",
   "execution_count": 52,
   "id": "2bb380ba-617b-4278-a2cd-43e5d5cf7c41",
   "metadata": {},
   "outputs": [
    {
     "data": {
      "text/plain": [
       "True"
      ]
     },
     "execution_count": 52,
     "metadata": {},
     "output_type": "execute_result"
    }
   ],
   "source": [
    "3 in arr"
   ]
  },
  {
   "cell_type": "code",
   "execution_count": 53,
   "id": "0f95dd1f-06eb-48be-9515-48bb9974e959",
   "metadata": {},
   "outputs": [
    {
     "data": {
      "text/plain": [
       "True"
      ]
     },
     "execution_count": 53,
     "metadata": {},
     "output_type": "execute_result"
    }
   ],
   "source": [
    "10 not in arr"
   ]
  },
  {
   "cell_type": "code",
   "execution_count": 54,
   "id": "042c0a2d-36d0-49df-97c0-8ed90abbe884",
   "metadata": {},
   "outputs": [
    {
     "data": {
      "text/plain": [
       "True"
      ]
     },
     "execution_count": 54,
     "metadata": {},
     "output_type": "execute_result"
    }
   ],
   "source": [
    "x = [2, 3, 'Pune', 10.4, 'Mumbai']\n",
    "'Pune' in x\n"
   ]
  },
  {
   "cell_type": "code",
   "execution_count": 55,
   "id": "8928e04b-e430-4390-8184-406ae1bdad9c",
   "metadata": {},
   "outputs": [
    {
     "data": {
      "text/plain": [
       "False"
      ]
     },
     "execution_count": 55,
     "metadata": {},
     "output_type": "execute_result"
    }
   ],
   "source": [
    "5 in x\n"
   ]
  },
  {
   "cell_type": "markdown",
   "id": "2c53ad78-f4a3-4000-b79a-05ac74b06ca9",
   "metadata": {},
   "source": [
    "##### User Input"
   ]
  },
  {
   "cell_type": "code",
   "execution_count": 56,
   "id": "b1c2cf98-9512-483c-b10c-ea6f24766b5d",
   "metadata": {},
   "outputs": [
    {
     "name": "stdin",
     "output_type": "stream",
     "text": [
      "Enter the number:  50\n"
     ]
    },
    {
     "name": "stdout",
     "output_type": "stream",
     "text": [
      "You have entered: 50\n"
     ]
    }
   ],
   "source": [
    "num = input('Enter the number: ')\n",
    "print('You have entered:', num)"
   ]
  },
  {
   "cell_type": "code",
   "execution_count": 57,
   "id": "48d0a140-d47c-4265-aada-aaac522c8496",
   "metadata": {},
   "outputs": [
    {
     "name": "stdin",
     "output_type": "stream",
     "text": [
      "Enter the number:  5\n"
     ]
    },
    {
     "name": "stdout",
     "output_type": "stream",
     "text": [
      "You have entered: 555\n"
     ]
    }
   ],
   "source": [
    "num = input('Enter the number: ')\n",
    "result = num*3\n",
    "print('You have entered:', result)"
   ]
  },
  {
   "cell_type": "markdown",
   "id": "4a5f7e34-6f48-473d-95a8-c5b54ccdf616",
   "metadata": {},
   "source": [
    "##### Type Casting"
   ]
  },
  {
   "cell_type": "code",
   "execution_count": 60,
   "id": "44c4be63-dae0-4e85-bad7-42a13060bd4b",
   "metadata": {},
   "outputs": [
    {
     "name": "stdin",
     "output_type": "stream",
     "text": [
      "Enter the number:  2\n"
     ]
    },
    {
     "name": "stdout",
     "output_type": "stream",
     "text": [
      "You have entered: 6\n"
     ]
    }
   ],
   "source": [
    "num = int(input('Enter the number: '))\n",
    "result = num*3\n",
    "print('You have entered:', result)"
   ]
  },
  {
   "cell_type": "code",
   "execution_count": 72,
   "id": "e6f8317a-2784-47ad-9866-c9c9b40faf45",
   "metadata": {},
   "outputs": [
    {
     "name": "stdin",
     "output_type": "stream",
     "text": [
      "Enter the value in Celsius: -14\n"
     ]
    },
    {
     "name": "stdout",
     "output_type": "stream",
     "text": [
      "The value in Farenheit is: 6\n"
     ]
    }
   ],
   "source": [
    "num = int(input('Enter the value in Celsius:'))\n",
    "farenheit = (1.8 * num) + 32\n",
    "print('The value in Farenheit is:', int(farenheit)) \n",
    "          "
   ]
  },
  {
   "cell_type": "code",
   "execution_count": null,
   "id": "8ada2764-590b-4570-89b5-406b553027c0",
   "metadata": {},
   "outputs": [],
   "source": []
  }
 ],
 "metadata": {
  "kernelspec": {
   "display_name": "Python 3 (ipykernel)",
   "language": "python",
   "name": "python3"
  },
  "language_info": {
   "codemirror_mode": {
    "name": "ipython",
    "version": 3
   },
   "file_extension": ".py",
   "mimetype": "text/x-python",
   "name": "python",
   "nbconvert_exporter": "python",
   "pygments_lexer": "ipython3",
   "version": "3.12.4"
  }
 },
 "nbformat": 4,
 "nbformat_minor": 5
}
