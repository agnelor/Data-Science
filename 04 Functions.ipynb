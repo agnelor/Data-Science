{
 "cells": [
  {
   "cell_type": "markdown",
   "id": "69eb58fb-3eb9-49bb-b6f3-1505d884f960",
   "metadata": {},
   "source": [
    "#### Functions"
   ]
  },
  {
   "cell_type": "code",
   "execution_count": 2,
   "id": "4be4beb1-df15-4864-b305-5be4d0395e95",
   "metadata": {},
   "outputs": [
    {
     "name": "stdout",
     "output_type": "stream",
     "text": [
      "Hello World\n"
     ]
    }
   ],
   "source": [
    "# Function Defination\n",
    "def show():\n",
    "    print('Hello World')\n",
    "\n",
    "show()\n"
   ]
  },
  {
   "cell_type": "code",
   "execution_count": 3,
   "id": "2e01bfef-86c7-45ce-8ab6-74b3e659c4f0",
   "metadata": {},
   "outputs": [
    {
     "name": "stdout",
     "output_type": "stream",
     "text": [
      "9\n"
     ]
    }
   ],
   "source": [
    "#Parameterized Functions\n",
    "def square(n):\n",
    "    sq = n*n\n",
    "    print(sq)\n",
    "\n",
    "square(3)\n"
   ]
  },
  {
   "cell_type": "code",
   "execution_count": 4,
   "id": "fe790670-3d98-4acd-a799-7126966f97da",
   "metadata": {},
   "outputs": [
    {
     "data": {
      "text/plain": [
       "7"
      ]
     },
     "execution_count": 4,
     "metadata": {},
     "output_type": "execute_result"
    }
   ],
   "source": [
    "# Function eturning values\n",
    "def compare(x, y):\n",
    "    if x > y:\n",
    "        return x\n",
    "    else:\n",
    "        return y\n",
    "\n",
    "t = compare(7,5)\n",
    "t\n",
    "    "
   ]
  },
  {
   "cell_type": "code",
   "execution_count": 6,
   "id": "635806fe-849b-4a36-8066-e2ce1f3ccd55",
   "metadata": {},
   "outputs": [
    {
     "name": "stdout",
     "output_type": "stream",
     "text": [
      "Square and Cube are: (9, 27)\n"
     ]
    }
   ],
   "source": [
    "# Function returning multiple values\n",
    "def calculate(num):\n",
    "    sq = num * num\n",
    "    cu = num * num *num\n",
    "    return sq, cu\n",
    "\n",
    "\n",
    "print('Square and Cube are:', calculate(3))\n",
    "    "
   ]
  },
  {
   "cell_type": "code",
   "execution_count": 8,
   "id": "588b6bfa-4112-48bb-a9e6-5542d505b9d2",
   "metadata": {},
   "outputs": [
    {
     "name": "stdout",
     "output_type": "stream",
     "text": [
      "Square and Cube are: 64 512\n"
     ]
    }
   ],
   "source": [
    "x, y = calculate(8)\n",
    "print('Square and Cube are:', x,y)"
   ]
  },
  {
   "cell_type": "code",
   "execution_count": 11,
   "id": "aec10c6c-1ca3-4bca-aeeb-b190d99933f5",
   "metadata": {},
   "outputs": [
    {
     "name": "stdout",
     "output_type": "stream",
     "text": [
      "Call-1 12\n"
     ]
    }
   ],
   "source": [
    "# Default Parameters\n",
    "def add(x=5, y=7, z=3):\n",
    "    a=x+y+z\n",
    "    return a\n",
    "\n",
    "print('Call-1',add(4,6,2))"
   ]
  },
  {
   "cell_type": "code",
   "execution_count": 12,
   "id": "7f1bd242-568f-4486-afea-ff7a44711843",
   "metadata": {},
   "outputs": [
    {
     "name": "stdout",
     "output_type": "stream",
     "text": [
      "Call-2 13\n"
     ]
    }
   ],
   "source": [
    "print('Call-2',add(4,6))"
   ]
  },
  {
   "cell_type": "code",
   "execution_count": 13,
   "id": "f82cb63c-c969-4b3e-af17-7e7c7082828b",
   "metadata": {},
   "outputs": [
    {
     "name": "stdout",
     "output_type": "stream",
     "text": [
      "Call-1 14\n"
     ]
    }
   ],
   "source": [
    "print('Call-1',add(4))"
   ]
  },
  {
   "cell_type": "code",
   "execution_count": 14,
   "id": "fe3afadb-4da5-4d57-8b1c-07690c7021fd",
   "metadata": {},
   "outputs": [
    {
     "name": "stdout",
     "output_type": "stream",
     "text": [
      "Call-1 15\n"
     ]
    }
   ],
   "source": [
    "print('Call-1',add())"
   ]
  }
 ],
 "metadata": {
  "kernelspec": {
   "display_name": "Python 3 (ipykernel)",
   "language": "python",
   "name": "python3"
  },
  "language_info": {
   "codemirror_mode": {
    "name": "ipython",
    "version": 3
   },
   "file_extension": ".py",
   "mimetype": "text/x-python",
   "name": "python",
   "nbconvert_exporter": "python",
   "pygments_lexer": "ipython3",
   "version": "3.12.4"
  }
 },
 "nbformat": 4,
 "nbformat_minor": 5
}
