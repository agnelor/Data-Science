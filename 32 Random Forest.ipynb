{
 "cells": [
  {
   "cell_type": "code",
   "execution_count": 2,
   "id": "7be3cdf2-9aee-4b97-a351-9be4e3eb2ed9",
   "metadata": {},
   "outputs": [],
   "source": [
    "import numpy as np\n",
    "import pandas as pd\n",
    "import matplotlib.pyplot as plt\n",
    "import seaborn as sns\n",
    "\n",
    "df = pd.read_csv('banknotes.csv')\n",
    "x=df.drop('Class', axis =1)\n",
    "y=df['Class']"
   ]
  },
  {
   "cell_type": "code",
   "execution_count": 3,
   "id": "7743b4a0-8bef-49d3-bda0-a0d65e6063c3",
   "metadata": {},
   "outputs": [],
   "source": [
    "from sklearn.model_selection import train_test_split\n",
    "x_train, x_test, y_train, y_test = train_test_split(x, y, random_state=0)"
   ]
  },
  {
   "cell_type": "code",
   "execution_count": 4,
   "id": "a3438981-8bdc-4a4e-bd1d-26c28d74d433",
   "metadata": {},
   "outputs": [],
   "source": [
    "from sklearn.tree import DecisionTreeClassifier\n",
    "from sklearn.ensemble import RandomForestClassifier"
   ]
  },
  {
   "cell_type": "code",
   "execution_count": 5,
   "id": "5928775b-f7e3-46a2-9076-900d76c15e52",
   "metadata": {},
   "outputs": [],
   "source": [
    "dt = DecisionTreeClassifier(random_state=0)\n",
    "dt.fit(x_train,y_train)\n",
    "y_pred = dt.predict(x_test)"
   ]
  },
  {
   "cell_type": "code",
   "execution_count": 6,
   "id": "316deafc-1dfc-4f82-a56b-24924bb8b759",
   "metadata": {},
   "outputs": [
    {
     "data": {
      "text/plain": [
       "0.9795918367346939"
      ]
     },
     "execution_count": 6,
     "metadata": {},
     "output_type": "execute_result"
    }
   ],
   "source": [
    "from sklearn.metrics import accuracy_score\n",
    "accuracy_score(y_test, y_pred)"
   ]
  },
  {
   "cell_type": "code",
   "execution_count": 9,
   "id": "4f2cdf1e-b638-4dc8-b57d-dc8ddaa74a05",
   "metadata": {},
   "outputs": [
    {
     "data": {
      "text/plain": [
       "0.9912536443148688"
      ]
     },
     "execution_count": 9,
     "metadata": {},
     "output_type": "execute_result"
    }
   ],
   "source": [
    "rf = RandomForestClassifier(random_state=5, n_estimators=20)\n",
    "rf.fit(x_train, y_train)\n",
    "y_pred = rf.predict(x_test)\n",
    "accuracy_score(y_test, y_pred)"
   ]
  },
  {
   "cell_type": "code",
   "execution_count": 10,
   "id": "fea47105-d964-462a-a73a-84448a89e938",
   "metadata": {},
   "outputs": [
    {
     "name": "stdout",
     "output_type": "stream",
     "text": [
      "CPU times: total: 0 ns\n",
      "Wall time: 1.4 ms\n"
     ]
    }
   ],
   "source": [
    "%%time\n",
    "y_pred = dt.predict(x_test)"
   ]
  },
  {
   "cell_type": "code",
   "execution_count": 11,
   "id": "9cf8817c-7a69-492f-9fa9-51e905cd6f6b",
   "metadata": {},
   "outputs": [
    {
     "name": "stdout",
     "output_type": "stream",
     "text": [
      "DT: Time spent: 0.001999378204345703\n"
     ]
    }
   ],
   "source": [
    "import time\n",
    "start = time.time()\n",
    "y_pred = dt.predict(x_test)\n",
    "end = time.time()\n",
    "print('DT: Time spent:', end-start)"
   ]
  },
  {
   "cell_type": "code",
   "execution_count": 12,
   "id": "a6985877-bda5-4353-b91c-165b942e304d",
   "metadata": {},
   "outputs": [
    {
     "name": "stdout",
     "output_type": "stream",
     "text": [
      "RF: Time spent: 0.0020003318786621094\n"
     ]
    }
   ],
   "source": [
    "import time\n",
    "start = time.time()\n",
    "y_pred = rf.predict(x_test)\n",
    "end = time.time()\n",
    "print('RF: Time spent:', end-start)"
   ]
  },
  {
   "cell_type": "code",
   "execution_count": null,
   "id": "1ab69021-a552-4a91-bb8e-b7968c57fe7f",
   "metadata": {},
   "outputs": [],
   "source": []
  }
 ],
 "metadata": {
  "kernelspec": {
   "display_name": "Python 3 (ipykernel)",
   "language": "python",
   "name": "python3"
  },
  "language_info": {
   "codemirror_mode": {
    "name": "ipython",
    "version": 3
   },
   "file_extension": ".py",
   "mimetype": "text/x-python",
   "name": "python",
   "nbconvert_exporter": "python",
   "pygments_lexer": "ipython3",
   "version": "3.12.4"
  }
 },
 "nbformat": 4,
 "nbformat_minor": 5
}
