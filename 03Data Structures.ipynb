{
 "cells": [
  {
   "cell_type": "code",
   "execution_count": null,
   "id": "ec1ae258-de50-46c0-96f1-681385045385",
   "metadata": {},
   "outputs": [],
   "source": []
  },
  {
   "cell_type": "markdown",
   "id": "c7d607ec-bf7d-4912-9e60-73bc93bd5012",
   "metadata": {},
   "source": [
    "#### List"
   ]
  },
  {
   "cell_type": "markdown",
   "id": "6450836b-5592-4408-8972-22a48342f407",
   "metadata": {},
   "source": [
    "##### Hetrogeneous, mutable, indexable, iterabale"
   ]
  },
  {
   "cell_type": "code",
   "execution_count": 2,
   "id": "c4a0c3f6-b0dc-4ce5-81f5-6a7b607e7f77",
   "metadata": {},
   "outputs": [
    {
     "data": {
      "text/plain": [
       "list"
      ]
     },
     "execution_count": 2,
     "metadata": {},
     "output_type": "execute_result"
    }
   ],
   "source": [
    "num = [34,35,36]\n",
    "type(num)"
   ]
  },
  {
   "cell_type": "code",
   "execution_count": 6,
   "id": "84d73874-8e37-4d0f-8709-7e928e0324ef",
   "metadata": {},
   "outputs": [
    {
     "data": {
      "text/plain": [
       "tuple"
      ]
     },
     "execution_count": 6,
     "metadata": {},
     "output_type": "execute_result"
    }
   ],
   "source": [
    "num = (23,24,26)\n",
    "type(num)"
   ]
  },
  {
   "cell_type": "code",
   "execution_count": 7,
   "id": "e0294939-565a-426d-ae65-ab1e89abf2ff",
   "metadata": {},
   "outputs": [
    {
     "data": {
      "text/plain": [
       "set"
      ]
     },
     "execution_count": 7,
     "metadata": {},
     "output_type": "execute_result"
    }
   ],
   "source": [
    "num = {23,24,26}\n",
    "type(num)"
   ]
  },
  {
   "cell_type": "code",
   "execution_count": 11,
   "id": "865bc742-75cf-4483-b28c-0933c8b37e13",
   "metadata": {},
   "outputs": [
    {
     "data": {
      "text/plain": [
       "dict"
      ]
     },
     "execution_count": 11,
     "metadata": {},
     "output_type": "execute_result"
    }
   ],
   "source": [
    "num = {12:23,23:34,45:56}\n",
    "type(num)"
   ]
  },
  {
   "cell_type": "code",
   "execution_count": 9,
   "id": "d7a511c3-8d77-4871-b00d-c7a963bf7015",
   "metadata": {},
   "outputs": [
    {
     "data": {
      "text/plain": [
       "type[[45, 24, 76, 41, 84, 29, 62, 28, 94, 55]]"
      ]
     },
     "execution_count": 9,
     "metadata": {},
     "output_type": "execute_result"
    }
   ],
   "source": [
    "num=[45,24,76,41,84,29,62,28,94,55]\n",
    "type[num]"
   ]
  },
  {
   "cell_type": "code",
   "execution_count": 12,
   "id": "e45d0233-d7e3-4b1d-a7c9-f322cf0885f5",
   "metadata": {},
   "outputs": [
    {
     "data": {
      "text/plain": [
       "45"
      ]
     },
     "execution_count": 12,
     "metadata": {},
     "output_type": "execute_result"
    }
   ],
   "source": [
    "num=[45,24,76,41,84,29,62,28,94,55]\n",
    "num[0]"
   ]
  },
  {
   "cell_type": "code",
   "execution_count": 13,
   "id": "76e2e34a-2d50-4c97-bc77-c8e0d41d3889",
   "metadata": {},
   "outputs": [
    {
     "data": {
      "text/plain": [
       "[67, 89.5, True, 'Pune', 40]"
      ]
     },
     "execution_count": 13,
     "metadata": {},
     "output_type": "execute_result"
    }
   ],
   "source": [
    "mixed = [67,89.50, True, 'Pune', 40]\n",
    "mixed"
   ]
  },
  {
   "cell_type": "code",
   "execution_count": 15,
   "id": "924b5067-9c0d-4e3d-b21b-40f511eab3bc",
   "metadata": {},
   "outputs": [
    {
     "data": {
      "text/plain": [
       "94"
      ]
     },
     "execution_count": 15,
     "metadata": {},
     "output_type": "execute_result"
    }
   ],
   "source": [
    "num[-2] #Value from reverse"
   ]
  },
  {
   "cell_type": "code",
   "execution_count": 16,
   "id": "4931b590-ff23-4d49-a281-60912d571fdf",
   "metadata": {},
   "outputs": [
    {
     "data": {
      "text/plain": [
       "76"
      ]
     },
     "execution_count": 16,
     "metadata": {},
     "output_type": "execute_result"
    }
   ],
   "source": [
    "num[2]"
   ]
  },
  {
   "cell_type": "code",
   "execution_count": 17,
   "id": "e4cd6035-fb73-42b7-94c4-58003a663717",
   "metadata": {},
   "outputs": [
    {
     "name": "stdout",
     "output_type": "stream",
     "text": [
      "45\n",
      "24\n",
      "76\n",
      "41\n",
      "84\n",
      "29\n",
      "62\n",
      "28\n",
      "94\n",
      "55\n"
     ]
    }
   ],
   "source": [
    "for n in num:\n",
    "    print(n)"
   ]
  },
  {
   "cell_type": "code",
   "execution_count": 19,
   "id": "af06616a-c4f7-4c9f-aabd-439c4a717f1b",
   "metadata": {},
   "outputs": [
    {
     "name": "stdout",
     "output_type": "stream",
     "text": [
      "45\n",
      "41\n",
      "29\n",
      "55\n"
     ]
    }
   ],
   "source": [
    "for n in num:\n",
    "    if n % 2 != 0:\n",
    "        print(n)"
   ]
  },
  {
   "cell_type": "code",
   "execution_count": 20,
   "id": "c93cf7a6-2664-487e-9f41-56a8ad6c8bae",
   "metadata": {},
   "outputs": [
    {
     "data": {
      "text/plain": [
       "True"
      ]
     },
     "execution_count": 20,
     "metadata": {},
     "output_type": "execute_result"
    }
   ],
   "source": [
    "41 in num"
   ]
  },
  {
   "cell_type": "code",
   "execution_count": 21,
   "id": "7bce58bb-7236-4728-ac14-33249031a707",
   "metadata": {},
   "outputs": [
    {
     "data": {
      "text/plain": [
       "False"
      ]
     },
     "execution_count": 21,
     "metadata": {},
     "output_type": "execute_result"
    }
   ],
   "source": [
    "24 not in num"
   ]
  },
  {
   "cell_type": "code",
   "execution_count": 22,
   "id": "066b186f-ee22-4b6f-b4fe-2b25e3d9c4db",
   "metadata": {},
   "outputs": [
    {
     "data": {
      "text/plain": [
       "list"
      ]
     },
     "execution_count": 22,
     "metadata": {},
     "output_type": "execute_result"
    }
   ],
   "source": [
    "e=[]\n",
    "type(e)"
   ]
  },
  {
   "cell_type": "code",
   "execution_count": 25,
   "id": "028167d4-cd5b-4d65-a3cb-b03a4206872c",
   "metadata": {},
   "outputs": [
    {
     "data": {
      "text/plain": [
       "[26]"
      ]
     },
     "execution_count": 25,
     "metadata": {},
     "output_type": "execute_result"
    }
   ],
   "source": [
    "e += [26]\n",
    "e"
   ]
  },
  {
   "cell_type": "code",
   "execution_count": 26,
   "id": "1d6aa2a9-0d49-471d-9dc2-434754d2b77f",
   "metadata": {},
   "outputs": [
    {
     "data": {
      "text/plain": [
       "[26, 78]"
      ]
     },
     "execution_count": 26,
     "metadata": {},
     "output_type": "execute_result"
    }
   ],
   "source": [
    "e += [78]\n",
    "e\n"
   ]
  },
  {
   "cell_type": "code",
   "execution_count": 33,
   "id": "bb7fa943-1a9e-4a15-ad32-02cf227501c1",
   "metadata": {},
   "outputs": [
    {
     "data": {
      "text/plain": [
       "[41, 84, 29, 62, 28]"
      ]
     },
     "execution_count": 33,
     "metadata": {},
     "output_type": "execute_result"
    }
   ],
   "source": [
    "# Slicing\n",
    "x = num[3:8]\n",
    "x\n"
   ]
  },
  {
   "cell_type": "code",
   "execution_count": 34,
   "id": "d13becd6-90c6-44a0-8657-f4d9fbc7732e",
   "metadata": {},
   "outputs": [
    {
     "data": {
      "text/plain": [
       "[29, 62, 28, 94, 55]"
      ]
     },
     "execution_count": 34,
     "metadata": {},
     "output_type": "execute_result"
    }
   ],
   "source": [
    "num[5:]"
   ]
  },
  {
   "cell_type": "code",
   "execution_count": 35,
   "id": "c58172ba-3d3f-45ad-b7ee-85880a5ed2a1",
   "metadata": {},
   "outputs": [
    {
     "data": {
      "text/plain": [
       "[45, 24, 76, 41, 84, 29]"
      ]
     },
     "execution_count": 35,
     "metadata": {},
     "output_type": "execute_result"
    }
   ],
   "source": [
    "num[:6]"
   ]
  },
  {
   "cell_type": "code",
   "execution_count": 37,
   "id": "a27722e4-1b1b-4588-b9ee-a7e07ddda76a",
   "metadata": {},
   "outputs": [
    {
     "data": {
      "text/plain": [
       "[4, 5, 6, 7, 8, 9]"
      ]
     },
     "execution_count": 37,
     "metadata": {},
     "output_type": "execute_result"
    }
   ],
   "source": [
    "num1 = [4,5,6]\n",
    "num2 = [7,8,9]\n",
    "x= num1 + num2\n",
    "x"
   ]
  },
  {
   "cell_type": "code",
   "execution_count": 38,
   "id": "69193846-e38a-4044-b7eb-13661f978d50",
   "metadata": {},
   "outputs": [
    {
     "data": {
      "text/plain": [
       "[4, 5, 6, 4, 5, 6, 4, 5, 6]"
      ]
     },
     "execution_count": 38,
     "metadata": {},
     "output_type": "execute_result"
    }
   ],
   "source": [
    "num1 * 3 #Repeatation\n"
   ]
  },
  {
   "cell_type": "code",
   "execution_count": 39,
   "id": "b21387e9-0400-4c81-93a1-cb771809d9b6",
   "metadata": {},
   "outputs": [
    {
     "data": {
      "text/plain": [
       "10"
      ]
     },
     "execution_count": 39,
     "metadata": {},
     "output_type": "execute_result"
    }
   ],
   "source": [
    "len(num)"
   ]
  },
  {
   "cell_type": "code",
   "execution_count": 40,
   "id": "1d3b75d8-06f2-4d71-803f-48211be26ad2",
   "metadata": {},
   "outputs": [
    {
     "data": {
      "text/plain": [
       "(24, 94, 538)"
      ]
     },
     "execution_count": 40,
     "metadata": {},
     "output_type": "execute_result"
    }
   ],
   "source": [
    "min(num), max(num), sum(num)"
   ]
  },
  {
   "cell_type": "code",
   "execution_count": 41,
   "id": "5290bb5d-1f34-44b2-812e-d7496cb81cf3",
   "metadata": {},
   "outputs": [
    {
     "data": {
      "text/plain": [
       "[24, 28, 29, 41, 45, 55, 62, 76, 84, 94]"
      ]
     },
     "execution_count": 41,
     "metadata": {},
     "output_type": "execute_result"
    }
   ],
   "source": [
    "sorted(num) # Not Persistent"
   ]
  },
  {
   "cell_type": "code",
   "execution_count": 42,
   "id": "735e7f48-1fc1-4bd3-8b19-0dd648b82ce6",
   "metadata": {},
   "outputs": [
    {
     "data": {
      "text/plain": [
       "[94, 84, 76, 62, 55, 45, 41, 29, 28, 24]"
      ]
     },
     "execution_count": 42,
     "metadata": {},
     "output_type": "execute_result"
    }
   ],
   "source": [
    "sorted(num, reverse=True)"
   ]
  },
  {
   "cell_type": "code",
   "execution_count": 43,
   "id": "d2bba1be-6ede-4997-88b8-8971e7868f6f",
   "metadata": {},
   "outputs": [],
   "source": [
    "num.append(104)"
   ]
  },
  {
   "cell_type": "code",
   "execution_count": 44,
   "id": "ac2ae12f-2bf7-4117-8c5b-f28147c15648",
   "metadata": {},
   "outputs": [
    {
     "data": {
      "text/plain": [
       "[45, 24, 76, 41, 84, 29, 62, 28, 94, 55, 104]"
      ]
     },
     "execution_count": 44,
     "metadata": {},
     "output_type": "execute_result"
    }
   ],
   "source": [
    "num"
   ]
  },
  {
   "cell_type": "code",
   "execution_count": 45,
   "id": "2f646e65-524c-45a3-812c-45d87b8af79b",
   "metadata": {},
   "outputs": [],
   "source": [
    "num.remove(104)"
   ]
  },
  {
   "cell_type": "code",
   "execution_count": 46,
   "id": "90e75f89-fd5a-431a-933b-5de07d21acb9",
   "metadata": {},
   "outputs": [
    {
     "data": {
      "text/plain": [
       "[45, 24, 76, 41, 84, 29, 62, 28, 94, 55]"
      ]
     },
     "execution_count": 46,
     "metadata": {},
     "output_type": "execute_result"
    }
   ],
   "source": [
    "num"
   ]
  },
  {
   "cell_type": "code",
   "execution_count": 47,
   "id": "f977828c-fc86-4bfc-966c-2099c77fb616",
   "metadata": {},
   "outputs": [
    {
     "data": {
      "text/plain": [
       "[45, 24, 76, 41, 84, 29, 62, 28, 94]"
      ]
     },
     "execution_count": 47,
     "metadata": {},
     "output_type": "execute_result"
    }
   ],
   "source": [
    "num.pop(len(num)-1)\n",
    "num"
   ]
  },
  {
   "cell_type": "code",
   "execution_count": 48,
   "id": "4ac88e50-d415-4931-9de3-b409866711fa",
   "metadata": {},
   "outputs": [
    {
     "data": {
      "text/plain": [
       "[45, 24, 76, 109, 41, 84, 29, 62, 28, 94]"
      ]
     },
     "execution_count": 48,
     "metadata": {},
     "output_type": "execute_result"
    }
   ],
   "source": [
    "num.insert(3, 109)\n",
    "num"
   ]
  },
  {
   "cell_type": "code",
   "execution_count": 50,
   "id": "5283b929-898d-4e27-bc88-71f4a4f4f0f3",
   "metadata": {},
   "outputs": [
    {
     "data": {
      "text/plain": [
       "[94, 28, 62, 29, 84, 41, 109, 76, 24, 45]"
      ]
     },
     "execution_count": 50,
     "metadata": {},
     "output_type": "execute_result"
    }
   ],
   "source": [
    "num.reverse()\n",
    "num\n"
   ]
  },
  {
   "cell_type": "code",
   "execution_count": 51,
   "id": "80bf0106-ee7b-42ad-b498-45aef01ffdcd",
   "metadata": {},
   "outputs": [
    {
     "data": {
      "text/plain": [
       "[24, 28, 29, 41, 45, 62, 76, 84, 94, 109]"
      ]
     },
     "execution_count": 51,
     "metadata": {},
     "output_type": "execute_result"
    }
   ],
   "source": [
    "num.sort() # Persistent sort\n",
    "num"
   ]
  },
  {
   "cell_type": "code",
   "execution_count": 52,
   "id": "b3776e60-33fe-40b0-9f26-12cf303e1436",
   "metadata": {},
   "outputs": [
    {
     "data": {
      "text/plain": [
       "[24, 28, 29, 41, 45, 62, 76, 84, 94, 109]"
      ]
     },
     "execution_count": 52,
     "metadata": {},
     "output_type": "execute_result"
    }
   ],
   "source": [
    "num"
   ]
  },
  {
   "cell_type": "code",
   "execution_count": 53,
   "id": "218ce6a8-6b31-4af2-a804-275dfafb67a1",
   "metadata": {},
   "outputs": [
    {
     "data": {
      "text/plain": [
       "[]"
      ]
     },
     "execution_count": 53,
     "metadata": {},
     "output_type": "execute_result"
    }
   ],
   "source": [
    "num.clear()\n",
    "num\n"
   ]
  },
  {
   "cell_type": "code",
   "execution_count": 55,
   "id": "947bf597-60b4-446f-82a8-d3411cd3dbc8",
   "metadata": {},
   "outputs": [
    {
     "ename": "NameError",
     "evalue": "name 'num' is not defined",
     "output_type": "error",
     "traceback": [
      "\u001b[1;31m---------------------------------------------------------------------------\u001b[0m",
      "\u001b[1;31mNameError\u001b[0m                                 Traceback (most recent call last)",
      "Cell \u001b[1;32mIn[55], line 1\u001b[0m\n\u001b[1;32m----> 1\u001b[0m \u001b[38;5;28;01mdel\u001b[39;00m num\n",
      "\u001b[1;31mNameError\u001b[0m: name 'num' is not defined"
     ]
    }
   ],
   "source": [
    "del num\n"
   ]
  },
  {
   "cell_type": "code",
   "execution_count": 62,
   "id": "aaae6a5d-4236-450c-be82-d4012b887d69",
   "metadata": {},
   "outputs": [
    {
     "data": {
      "text/plain": [
       "['silver',\n",
       " 'gold',\n",
       " 'aluminium',\n",
       " 'gold',\n",
       " 'silver',\n",
       " 'silver',\n",
       " 'aluminium',\n",
       " 'gold',\n",
       " 'silver',\n",
       " 'gold']"
      ]
     },
     "execution_count": 62,
     "metadata": {},
     "output_type": "execute_result"
    }
   ],
   "source": [
    "metals = ['silver', 'gold','copper','aluminium','gold','silver','silver','copper','aluminium','copper','gold','copper','silver','gold']\n",
    "new_metals = []\n",
    "count=0\n",
    "for i in metals:\n",
    "    if i != 'copper':\n",
    "        new_metals.insert(count,i) # new_metals.append(i)\n",
    "\n",
    "    count += 1\n",
    "\n",
    "new_metals\n",
    "\n",
    "    \n",
    "    "
   ]
  },
  {
   "cell_type": "code",
   "execution_count": 63,
   "id": "143ce53b-1658-45d3-8645-5c17cb3abe13",
   "metadata": {},
   "outputs": [
    {
     "data": {
      "text/plain": [
       "[22.5, 16.0, 7.5, 33.5, 44.0, 27.5]"
      ]
     },
     "execution_count": 63,
     "metadata": {},
     "output_type": "execute_result"
    }
   ],
   "source": [
    "num = [45,32,15,67,88,55]\n",
    "new_num = [n/2 for n in num] #List Comprehension\n",
    "new_num"
   ]
  },
  {
   "cell_type": "code",
   "execution_count": 64,
   "id": "b3791ab3-2e24-4b67-859a-d123df21d68c",
   "metadata": {},
   "outputs": [
    {
     "data": {
      "text/plain": [
       "[45, 15, 67, 55]"
      ]
     },
     "execution_count": 64,
     "metadata": {},
     "output_type": "execute_result"
    }
   ],
   "source": [
    "new = [n for n in num if n % 2 ==1]\n",
    "new"
   ]
  },
  {
   "cell_type": "code",
   "execution_count": 65,
   "id": "1f4c99b8-0b20-471e-90ec-8c6aa6eec33c",
   "metadata": {},
   "outputs": [
    {
     "data": {
      "text/plain": [
       "[22.5, 7.5, 33.5, 27.5]"
      ]
     },
     "execution_count": 65,
     "metadata": {},
     "output_type": "execute_result"
    }
   ],
   "source": [
    "new = [n/2 for n in num if n % 2 ==1]\n",
    "new\n"
   ]
  },
  {
   "cell_type": "code",
   "execution_count": 66,
   "id": "0eb4dcf3-195d-4ccf-a2b6-8e9342e587b7",
   "metadata": {},
   "outputs": [
    {
     "data": {
      "text/plain": [
       "['silver',\n",
       " 'gold',\n",
       " 'aluminium',\n",
       " 'gold',\n",
       " 'silver',\n",
       " 'silver',\n",
       " 'aluminium',\n",
       " 'gold',\n",
       " 'silver',\n",
       " 'gold']"
      ]
     },
     "execution_count": 66,
     "metadata": {},
     "output_type": "execute_result"
    }
   ],
   "source": [
    "new_metals = [m for m in metals if m != 'copper']\n",
    "new_metals"
   ]
  },
  {
   "cell_type": "code",
   "execution_count": 79,
   "id": "d9de65ec-5056-4751-91e4-5c591606ed5d",
   "metadata": {},
   "outputs": [
    {
     "data": {
      "text/plain": [
       "[5, 6, 2, 8, 9, 0, 1, 3, 4, 7]"
      ]
     },
     "execution_count": 79,
     "metadata": {},
     "output_type": "execute_result"
    }
   ],
   "source": [
    "input = [5,6,2,8,9,1,3,7,4,0]\n",
    "output = input[:5]+sorted(input[5:])\n",
    "output"
   ]
  },
  {
   "cell_type": "markdown",
   "id": "081c0753-7175-4373-affb-6edffe071452",
   "metadata": {},
   "source": [
    "#### Tuples - The data that cannot be changed - immutable"
   ]
  },
  {
   "cell_type": "code",
   "execution_count": 80,
   "id": "f684a68b-cd40-44a8-a638-d2f8c9658f66",
   "metadata": {},
   "outputs": [
    {
     "data": {
      "text/plain": [
       "tuple"
      ]
     },
     "execution_count": 80,
     "metadata": {},
     "output_type": "execute_result"
    }
   ],
   "source": [
    "num = (34 ,12, 67, 83, 46, 41, 10)\n",
    "type(num)"
   ]
  },
  {
   "cell_type": "code",
   "execution_count": 81,
   "id": "b032d98c-6e2c-4983-9941-1ab902866738",
   "metadata": {},
   "outputs": [
    {
     "data": {
      "text/plain": [
       "10"
      ]
     },
     "execution_count": 81,
     "metadata": {},
     "output_type": "execute_result"
    }
   ],
   "source": [
    "num[6]"
   ]
  },
  {
   "cell_type": "code",
   "execution_count": 82,
   "id": "87ec6923-e332-494f-8186-cd1f97fa6211",
   "metadata": {},
   "outputs": [
    {
     "ename": "TypeError",
     "evalue": "'tuple' object does not support item assignment",
     "output_type": "error",
     "traceback": [
      "\u001b[1;31m---------------------------------------------------------------------------\u001b[0m",
      "\u001b[1;31mTypeError\u001b[0m                                 Traceback (most recent call last)",
      "Cell \u001b[1;32mIn[82], line 1\u001b[0m\n\u001b[1;32m----> 1\u001b[0m num[\u001b[38;5;241m3\u001b[39m] \u001b[38;5;241m=\u001b[39m \u001b[38;5;241m56\u001b[39m\n\u001b[0;32m      2\u001b[0m num\n",
      "\u001b[1;31mTypeError\u001b[0m: 'tuple' object does not support item assignment"
     ]
    }
   ],
   "source": [
    "num[3] = 56\n",
    "num"
   ]
  },
  {
   "cell_type": "code",
   "execution_count": 83,
   "id": "6eaa7993-6ecc-4b62-85b6-361154d01608",
   "metadata": {},
   "outputs": [
    {
     "data": {
      "text/plain": [
       "(34, 12, 67, 83, 46, 41, 10)"
      ]
     },
     "execution_count": 83,
     "metadata": {},
     "output_type": "execute_result"
    }
   ],
   "source": [
    "num = 34 ,12, 67, 83, 46, 41, 10\n",
    "num"
   ]
  },
  {
   "cell_type": "code",
   "execution_count": 84,
   "id": "600656e5-eace-40b0-b1b5-0a10ad9037d3",
   "metadata": {},
   "outputs": [
    {
     "data": {
      "text/plain": [
       "tuple"
      ]
     },
     "execution_count": 84,
     "metadata": {},
     "output_type": "execute_result"
    }
   ],
   "source": [
    "type(num)"
   ]
  },
  {
   "cell_type": "markdown",
   "id": "cfbbf191-6089-4214-8ea5-8e5cfe967892",
   "metadata": {},
   "source": [
    "#### Sets - Collection of unique and distinct Hetrogeneous, Mutable, Indexable, Iterable"
   ]
  },
  {
   "cell_type": "code",
   "execution_count": 87,
   "id": "23ea7471-87f8-480d-8850-68b51e539ae9",
   "metadata": {},
   "outputs": [
    {
     "data": {
      "text/plain": [
       "set"
      ]
     },
     "execution_count": 87,
     "metadata": {},
     "output_type": "execute_result"
    }
   ],
   "source": [
    "s = {5,6,7,8,6,5}\n",
    "type(s)"
   ]
  },
  {
   "cell_type": "code",
   "execution_count": 88,
   "id": "4e8e8e21-5e9b-47b4-a570-2db3ae7219b9",
   "metadata": {},
   "outputs": [
    {
     "data": {
      "text/plain": [
       "{5, 6, 7, 8}"
      ]
     },
     "execution_count": 88,
     "metadata": {},
     "output_type": "execute_result"
    }
   ],
   "source": [
    "s"
   ]
  },
  {
   "cell_type": "code",
   "execution_count": 89,
   "id": "cf282c44-2cde-4fc6-8746-600fa72f121a",
   "metadata": {},
   "outputs": [
    {
     "data": {
      "text/plain": [
       "{2, 5, 6, 7, 8}"
      ]
     },
     "execution_count": 89,
     "metadata": {},
     "output_type": "execute_result"
    }
   ],
   "source": [
    "s.add(2)\n",
    "s"
   ]
  },
  {
   "cell_type": "code",
   "execution_count": 90,
   "id": "72701521-3fd4-46bb-acb1-e39acc4435a7",
   "metadata": {},
   "outputs": [
    {
     "data": {
      "text/plain": [
       "{1, 2, 3, 4, 5, 6, 7}"
      ]
     },
     "execution_count": 90,
     "metadata": {},
     "output_type": "execute_result"
    }
   ],
   "source": [
    "s1 = {1,2,3,4,5}\n",
    "s2 = {3,4,5,6,7}\n",
    "s1.union(s2)"
   ]
  },
  {
   "cell_type": "code",
   "execution_count": 91,
   "id": "9df4fb10-f728-426c-9c95-403aa6dfbb89",
   "metadata": {},
   "outputs": [
    {
     "data": {
      "text/plain": [
       "{3, 4, 5}"
      ]
     },
     "execution_count": 91,
     "metadata": {},
     "output_type": "execute_result"
    }
   ],
   "source": [
    "s1.intersection(s2)"
   ]
  },
  {
   "cell_type": "code",
   "execution_count": 93,
   "id": "7ce0951f-c5ab-4de3-be24-f71441334124",
   "metadata": {},
   "outputs": [
    {
     "data": {
      "text/plain": [
       "{1, 2}"
      ]
     },
     "execution_count": 93,
     "metadata": {},
     "output_type": "execute_result"
    }
   ],
   "source": [
    "s1.difference(s2) # present in s1 and not in s2"
   ]
  },
  {
   "cell_type": "code",
   "execution_count": 94,
   "id": "cf6e3f4d-3277-4f1f-a3a7-5a075f9ccf1e",
   "metadata": {},
   "outputs": [
    {
     "data": {
      "text/plain": [
       "{6, 7}"
      ]
     },
     "execution_count": 94,
     "metadata": {},
     "output_type": "execute_result"
    }
   ],
   "source": [
    "s2.difference(s1)"
   ]
  },
  {
   "cell_type": "markdown",
   "id": "e46353b5-7814-4c59-80b5-25c915e3a2e0",
   "metadata": {},
   "source": [
    "#### Dictionary - Collection of key-value pairs -Non repeated key (We use key to access the value) Mutable "
   ]
  },
  {
   "cell_type": "code",
   "execution_count": 95,
   "id": "e57f1247-9ab4-4a30-a06b-4e348ef9b24b",
   "metadata": {},
   "outputs": [
    {
     "data": {
      "text/plain": [
       "dict"
      ]
     },
     "execution_count": 95,
     "metadata": {},
     "output_type": "execute_result"
    }
   ],
   "source": [
    "d={2:56, 5:27, 6: 379, 7:372, 'a': 'apple'}\n",
    "type(d)"
   ]
  },
  {
   "cell_type": "code",
   "execution_count": 96,
   "id": "31f63305-8b0f-40f9-8c03-f89d13475533",
   "metadata": {},
   "outputs": [
    {
     "data": {
      "text/plain": [
       "56"
      ]
     },
     "execution_count": 96,
     "metadata": {},
     "output_type": "execute_result"
    }
   ],
   "source": [
    "d[2]"
   ]
  },
  {
   "cell_type": "code",
   "execution_count": 98,
   "id": "334a9ba6-aec3-4293-83e3-9a75a76361af",
   "metadata": {},
   "outputs": [
    {
     "data": {
      "text/plain": [
       "'apple'"
      ]
     },
     "execution_count": 98,
     "metadata": {},
     "output_type": "execute_result"
    }
   ],
   "source": [
    "d['a']"
   ]
  },
  {
   "cell_type": "code",
   "execution_count": 99,
   "id": "71ceaf2a-0435-41e5-8e48-78c30ed61f5e",
   "metadata": {},
   "outputs": [],
   "source": [
    "d[6]=1000"
   ]
  },
  {
   "cell_type": "code",
   "execution_count": 100,
   "id": "79cc72f6-5e77-47c8-b537-cd99e19d90a3",
   "metadata": {},
   "outputs": [
    {
     "data": {
      "text/plain": [
       "{2: 56, 5: 27, 6: 1000, 7: 372, 'a': 'apple'}"
      ]
     },
     "execution_count": 100,
     "metadata": {},
     "output_type": "execute_result"
    }
   ],
   "source": [
    "d"
   ]
  },
  {
   "cell_type": "code",
   "execution_count": 101,
   "id": "a0c757f7-b022-4a57-b996-94692f7949d1",
   "metadata": {},
   "outputs": [
    {
     "data": {
      "text/plain": [
       "{2: 56, 5: 27, 6: 1000, 7: 372, 'a': 'apple', 'z': 'Zebra'}"
      ]
     },
     "execution_count": 101,
     "metadata": {},
     "output_type": "execute_result"
    }
   ],
   "source": [
    "d['z'] = 'Zebra'\n",
    "d"
   ]
  },
  {
   "cell_type": "code",
   "execution_count": 102,
   "id": "ed005d0e-11e0-4763-b267-60439d580a4d",
   "metadata": {},
   "outputs": [
    {
     "data": {
      "text/plain": [
       "dict"
      ]
     },
     "execution_count": 102,
     "metadata": {},
     "output_type": "execute_result"
    }
   ],
   "source": [
    "x={}\n",
    "type(x)"
   ]
  },
  {
   "cell_type": "code",
   "execution_count": 103,
   "id": "d20f7526-6650-4029-b614-76504c6e5d5e",
   "metadata": {},
   "outputs": [
    {
     "data": {
      "text/plain": [
       "{0, 2, 3, 4, 5, 6}"
      ]
     },
     "execution_count": 103,
     "metadata": {},
     "output_type": "execute_result"
    }
   ],
   "source": [
    "l = [5,4,6,2,5,3,5,0]\n",
    "t = (7,8,5,3,1,2,3,4)\n",
    "s = {6,5,7,8,4,6,3}\n",
    "set(l)"
   ]
  },
  {
   "cell_type": "code",
   "execution_count": 104,
   "id": "82ed9cac-dea6-40f7-a8a2-6442a8169227",
   "metadata": {},
   "outputs": [
    {
     "data": {
      "text/plain": [
       "{1, 2, 3, 4, 5, 7, 8}"
      ]
     },
     "execution_count": 104,
     "metadata": {},
     "output_type": "execute_result"
    }
   ],
   "source": [
    "set(t)"
   ]
  },
  {
   "cell_type": "code",
   "execution_count": 105,
   "id": "39469d88-e42b-4249-b313-c7365201b2e3",
   "metadata": {},
   "outputs": [
    {
     "data": {
      "text/plain": [
       "[7, 8, 5, 3, 1, 2, 3, 4]"
      ]
     },
     "execution_count": 105,
     "metadata": {},
     "output_type": "execute_result"
    }
   ],
   "source": [
    "list(t)"
   ]
  },
  {
   "cell_type": "code",
   "execution_count": null,
   "id": "98cc88eb-49a5-4ec3-8c15-c05144c1077e",
   "metadata": {},
   "outputs": [],
   "source": []
  }
 ],
 "metadata": {
  "kernelspec": {
   "display_name": "Python 3 (ipykernel)",
   "language": "python",
   "name": "python3"
  },
  "language_info": {
   "codemirror_mode": {
    "name": "ipython",
    "version": 3
   },
   "file_extension": ".py",
   "mimetype": "text/x-python",
   "name": "python",
   "nbconvert_exporter": "python",
   "pygments_lexer": "ipython3",
   "version": "3.12.4"
  }
 },
 "nbformat": 4,
 "nbformat_minor": 5
}
